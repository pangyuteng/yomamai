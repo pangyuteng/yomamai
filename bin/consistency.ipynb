{
 "cells": [
  {
   "cell_type": "code",
   "execution_count": 29,
   "metadata": {
    "collapsed": true
   },
   "outputs": [],
   "source": [
    "import yaml\n",
    "import matplotlib.pyplot as plt\n",
    "%matplotlib inline\n",
    "from sklearn import metrics\n",
    "import pandas as pd\n",
    "import numpy as np"
   ]
  },
  {
   "cell_type": "code",
   "execution_count": 30,
   "metadata": {},
   "outputs": [],
   "source": [
    "import os,sys\n",
    "root_path = os.path.dirname(os.path.dirname(os.path.abspath('run.py')))\n",
    "sys.path.append(root_path)\n",
    "from cfg import cfg\n",
    "from numerapi.numerapi import NumerAPI\n",
    "import models\n",
    "from data_utils import data_files\n",
    "from data_utils import get_data_era_balanced,data_files,get_data, write_to_csv\n"
   ]
  },
  {
   "cell_type": "code",
   "execution_count": 3,
   "metadata": {
    "collapsed": true
   },
   "outputs": [],
   "source": [
    "kwargs = cfg['api']"
   ]
  },
  {
   "cell_type": "code",
   "execution_count": 5,
   "metadata": {
    "collapsed": true
   },
   "outputs": [],
   "source": [
    "import os,sys\n",
    "root_path = os.path.dirname(os.path.dirname(os.path.abspath('run.py')))\n",
    "sys.path.append(root_path)\n",
    "\n",
    "from cfg import cfg\n",
    "from numerapi.numerapi import NumerAPI\n",
    "import models\n",
    "from data_utils import get_data_era_balanced,data_files,get_data, write_to_csv\n",
    "import imp\n",
    "from models import opt\n",
    "\n",
    "model_list = [\n",
    "    ('aecgan',models.aec_gan.AecAdvModel,dict(istrain=False)),\n",
    "    ('aec',models.aec.AecModel,dict(istrain=False)),\n",
    "    ('xg',models.xg.XgModel,dict(istrain=False)),\n",
    "    ('aecganxg',models.aec_gan_xg.AecGanXgModel,dict(istrain=False)),# depends on model from AecAdvModel\n",
    "    ('aecgs',models.aec_gan_stack.AecAdvStackModel,dict(istrain=False)),\n",
    "    ('ganmore',models.ganmore.GanMoreModel,dict(istrain=False)),\n",
    "    ('simplekfold',models.simplekfold.SimpleKfold,dict(istrain=False)),\n",
    "    ('disentangle_kfold',models.disentangle_kfold.DisentangleKfoldModel,dict(istrain=False)),\n",
    "]"
   ]
  },
  {
   "cell_type": "code",
   "execution_count": 6,
   "metadata": {},
   "outputs": [
    {
     "name": "stdout",
     "output_type": "stream",
     "text": [
      "<class 'pandas.core.frame.DataFrame'> <class 'pandas.core.series.Series'> <class 'pandas.core.series.Series'> <class 'pandas.core.series.Series'>\n",
      "(314837, 50) (314837,) (78776, 50) (78776,)\n"
     ]
    }
   ],
   "source": [
    "X_test,y_test,ids,_eras,_datatypes=get_data(data_files[-1]['testpath'])\n",
    "X_train,y_train,X_val,y_val = get_data_era_balanced(data_files[-1]['trainpath'])"
   ]
  },
  {
   "cell_type": "code",
   "execution_count": 31,
   "metadata": {
    "collapsed": true
   },
   "outputs": [],
   "source": [
    "import imp\n",
    "imp.reload(models)\n",
    "model_list = [\n",
    "     ('aecgan',models.aec_gan.AecAdvModel,dict(istrain=False)),\n",
    "     ('aec',models.aec.AecModel,dict(istrain=False)),\n",
    "     #('xg',models.xg.XgModel,dict(istrain=False)),\n",
    "     #('aecganxg',models.aec_gan_xg.AecGanXgModel,dict(istrain=False)),# depends on model from AecAdvModel\n",
    "     #('aecgs',models.aec_gan_stack.AecAdvStackModel,dict(istrain=False)), # depends on model from AecAdvModel\n",
    "#    ('ganmore',models.ganmore.GanMoreModel,dict(istrain=False)),\n",
    "     ('disentangle',models.disentangle.DisentangleModel,dict(istrain=False)),\n",
    "     ('disentangle_kfold',models.disentangle_kfold.DisentangleKfoldModel,dict(istrain=False)),\n",
    "     ('disentanglegan',models.disentanglegan.DisentangleGanModel,dict(istrain=False)),\n",
    "     #('idg',models.icadisengan.IcaDisentangleGanModel,dict(istrain=False)),\n",
    "     #('mdg',models.moddisengan.DisentangleModel,dict(istrain=True)),\n",
    "    ('tsnesimple',models.tsne_simple.TsneSimple,dict(istrain=False)),\n",
    "    ('tsnesimplekfold',models.tsne_simplekfold.TsneSimpleKfold,dict(istrain=False)),\n",
    "    ('simple',models.simple.Simple,dict(istrain=False)),\n",
    "    ('simplekfold',models.simplekfold.SimpleKfold,dict(istrain=False)),\n",
    "]"
   ]
  },
  {
   "cell_type": "code",
   "execution_count": 23,
   "metadata": {
    "collapsed": true
   },
   "outputs": [],
   "source": [
    "val_inds = np.array(np.where(_datatypes=='validation')).squeeze()"
   ]
  },
  {
   "cell_type": "code",
   "execution_count": 24,
   "metadata": {},
   "outputs": [
    {
     "data": {
      "text/plain": [
       "(46362,)"
      ]
     },
     "execution_count": 24,
     "metadata": {},
     "output_type": "execute_result"
    }
   ],
   "source": [
    "val_inds.shape"
   ]
  },
  {
   "cell_type": "code",
   "execution_count": null,
   "metadata": {
    "collapsed": true
   },
   "outputs": [],
   "source": []
  },
  {
   "cell_type": "code",
   "execution_count": 32,
   "metadata": {
    "scrolled": false
   },
   "outputs": [
    {
     "name": "stdout",
     "output_type": "stream",
     "text": [
      "<class 'pandas.core.frame.DataFrame'> <class 'pandas.core.series.Series'> <class 'pandas.core.series.Series'> <class 'pandas.core.series.Series'>\n",
      "(314837, 50) (314837,) (78776, 50) (78776,)\n"
     ]
    },
    {
     "name": "stderr",
     "output_type": "stream",
     "text": [
      "/home/yoyoteng/anaconda3/envs/py35/lib/python3.5/site-packages/numpy/core/fromnumeric.py:57: FutureWarning: 'argmin' is deprecated. Use 'idxmin' instead. The behavior of 'argmin' will be corrected to return the positional minimum in the future. Use 'series.values.argmin' to get the position of the minimum now.\n",
      "  return getattr(obj, method)(*args, **kwds)\n"
     ]
    },
    {
     "name": "stdout",
     "output_type": "stream",
     "text": [
      "(78776, 1)\n",
      "[  4.85879925e-01   2.77555756e-17   9.37365615e-03   7.97782664e-02\n",
      "   4.24968152e-01] (5, 78776) (78776,)\n",
      "0\n",
      "1\n",
      "2\n",
      "3\n",
      "4\n",
      "trainpath aec cons:0.6083 logloss:0.6926\n",
      "trainpath aecgan cons:0.6000 logloss:0.6926\n",
      "trainpath disentangle cons:0.6000 logloss:0.6931\n",
      "trainpath disentangle_kfold cons:0.5000 logloss:0.6931\n",
      "trainpath disentanglegan cons:0.5333 logloss:0.6931\n",
      "trainpath simple cons:0.6333 logloss:0.6922\n",
      "trainpath simplekfold cons:0.7417 logloss:0.6916\n",
      "trainpath tsnesimple cons:0.6667 logloss:0.6924\n",
      "trainpath tsnesimplekfold cons:0.6333 logloss:0.6923\n",
      "<class 'pandas.core.frame.DataFrame'> <class 'pandas.core.series.Series'> <class 'pandas.core.series.Series'> <class 'pandas.core.series.Series'>\n",
      "(37084, 50) (37084,) (9278, 50) (9278,)\n",
      "(9278, 1)\n",
      "[  4.85879925e-01   2.77555756e-17   9.37365615e-03   7.97782664e-02\n",
      "   4.24968152e-01] (5, 9278) (9278,)\n",
      "0\n",
      "1\n",
      "2\n",
      "3\n",
      "4\n",
      "testpath aec cons:0.8333 logloss:0.6922\n",
      "testpath aecgan cons:0.6667 logloss:0.6922\n",
      "testpath disentangle cons:0.6667 logloss:0.6930\n",
      "testpath disentangle_kfold cons:0.5833 logloss:0.6932\n",
      "testpath disentanglegan cons:0.6667 logloss:0.6930\n",
      "testpath simple cons:0.8333 logloss:0.6915\n",
      "testpath simplekfold cons:0.8333 logloss:0.6911\n",
      "testpath tsnesimple cons:0.6667 logloss:0.6919\n",
      "testpath tsnesimplekfold cons:0.8333 logloss:0.6920\n"
     ]
    }
   ],
   "source": [
    "\n",
    "def to_int(e):\n",
    "    try:\n",
    "        return int(e.strip('era'))\n",
    "    except:\n",
    "        return float('nan')\n",
    "ll_list = [{},{}]\n",
    "raw = {}\n",
    "\n",
    "\n",
    "for n,p in enumerate(['trainpath','testpath']):\n",
    "    X__,y__,ids__,eras__,datatypes__=get_data(data_files[-1][p])\n",
    "    index_dict={}\n",
    "    X_train_tr,y_train_tr,X_val_tr,y_val_tr = get_data_era_balanced(\n",
    "        data_files[-1][p],index_dict=index_dict)\n",
    "    X__ = X_val_tr\n",
    "    y__ = y_val_tr\n",
    "    \n",
    "    eras__ = eras__[index_dict['validation']]\n",
    "    \n",
    "    val_eras = sorted([x for x in np.unique(eras__) if x not in ['eraX']])\n",
    "    raw[p]={'y_true':y__,'m':{},'eras':eras__,'val_eras':val_eras}\n",
    "    ll={}\n",
    "    for name,clsf,params in model_list:\n",
    "        inst = clsf()\n",
    "        inst.load()\n",
    "        y_pred,_ = inst.predict(X__)\n",
    "        raw[p]['m'][name]={'y_pred':y_pred}\n",
    "        ll[name]=[]\n",
    "        for era in val_eras:\n",
    "            inds = np.array(np.where(eras__==era)).squeeze()            \n",
    "            l = opt.log_loss_func([1.],[y_pred[inds]],y__[inds])\n",
    "            ll[name].append({'eras':to_int(era),'log_loss':l,'stds':np.nanstd(y_pred[inds].squeeze()-y__[inds])})\n",
    "        ll[name] = pd.DataFrame(ll[name])\n",
    "    ll_list[n].update(ll)\n",
    "    for k in sorted(ll.keys()):\n",
    "        v = ll[k].log_loss\n",
    "        consistency = np.sum(v<-np.log(0.5))/len(v)\n",
    "        mila = np.mean(v)\n",
    "        print('{} {} cons:{:1.4f} logloss:{:1.4f}'.format(p,k,consistency,mila))\n",
    "# https://github.com/numerai/submission-criteria/blob/daac1970a984cd4392c720771d3c5c4bcb9de1d4/submission_criteria/database_manager.py#L71 "
   ]
  },
  {
   "cell_type": "code",
   "execution_count": 33,
   "metadata": {
    "scrolled": false
   },
   "outputs": [
    {
     "name": "stdout",
     "output_type": "stream",
     "text": [
      "ok\n",
      "!! (9, 78776) (78776,)\n",
      "Ensemble Score: 0.24957010590134887\n",
      "Best Weights: [  1.19961751e-01   2.70927971e-01   2.41172471e-01   5.55111512e-17\n",
      "   1.11022302e-16   0.00000000e+00   3.67937807e-01   0.00000000e+00\n",
      "   0.00000000e+00]\n",
      "Ensemble Score: 0.24946145996287547\n",
      "Best Weights: [  0.00000000e+00   1.68126937e-01   5.90787515e-02   4.66498972e-01\n",
      "   8.90115432e-02   2.77555756e-17   5.55111512e-17   1.19963164e-02\n",
      "   2.05287480e-01]\n",
      "Ensemble Score: 0.24958704951362232\n",
      "Best Weights: [  0.00000000e+00   5.55111512e-17   2.89013162e-01   0.00000000e+00\n",
      "   1.11022302e-16   0.00000000e+00   0.00000000e+00   4.76486103e-01\n",
      "   2.34500736e-01]\n",
      "Ensemble Score: 0.2493718108066085\n",
      "Best Weights: [  0.00000000e+00   5.35582765e-02   0.00000000e+00   5.55111512e-17\n",
      "   2.33174431e-01   4.35855585e-01   0.00000000e+00   5.55111512e-17\n",
      "   2.77411707e-01]\n",
      "Ensemble Score: 0.2496624809084891\n",
      "Best Weights: [  3.13013364e-01   2.22773249e-01   1.11022302e-16   0.00000000e+00\n",
      "   1.66533454e-16   0.00000000e+00   0.00000000e+00   3.03036585e-01\n",
      "   1.61176801e-01]\n",
      "Ensemble Score: 0.2496220360962368\n",
      "Best Weights: [  2.22044605e-16   0.00000000e+00   2.20250982e-01   2.50625720e-01\n",
      "   2.82716482e-01   0.00000000e+00   2.46406815e-01   8.32667268e-17\n",
      "   8.32667268e-17]\n",
      "Ensemble Score: 0.24949506184676631\n",
      "Best Weights: [  2.15958713e-01   1.11022302e-16   8.32667268e-17   4.85785274e-01\n",
      "   0.00000000e+00   2.98256013e-01   0.00000000e+00   0.00000000e+00\n",
      "   0.00000000e+00]\n",
      "Ensemble Score: 0.2492943019672453\n",
      "Best Weights: [  0.00000000e+00   2.91833442e-01   4.94937651e-02   0.00000000e+00\n",
      "   2.77555756e-17   3.10449487e-01   0.00000000e+00   3.84890080e-18\n",
      "   3.48223306e-01]\n",
      "Ensemble Score: 0.24943049748954862\n",
      "Best Weights: [  1.11022302e-16   5.55111512e-17   2.15639841e-01   5.55111512e-17\n",
      "   4.22092194e-02   4.33972574e-01   3.08178366e-01   5.55111512e-17\n",
      "   9.71445147e-17]\n",
      "Ensemble Score: 0.24939361599041593\n",
      "Best Weights: [  1.01394054e-01   1.11022302e-16   0.00000000e+00   1.42275834e-01\n",
      "   5.55111512e-17   5.55111512e-17   3.32083948e-01   0.00000000e+00\n",
      "   4.24246164e-01]\n",
      "-----------------------------------\n",
      "candidate weight info {'score': 0.2492943019672453, 'weights': array([  0.00000000e+00,   2.91833442e-01,   4.94937651e-02,\n",
      "         0.00000000e+00,   2.77555756e-17,   3.10449487e-01,\n",
      "         0.00000000e+00,   3.84890080e-18,   3.48223306e-01])}\n",
      "-----------------------------------\n",
      "(78776,)\n",
      "(78776,)\n",
      "(9278,)\n",
      "(9278,)\n"
     ]
    }
   ],
   "source": [
    "\n",
    "\n",
    "print('ok')\n",
    "name = 'opt'\n",
    "for n,p in enumerate(['trainpath','testpath']):\n",
    "    y_true = raw[p]['y_true']\n",
    "    pred_list = []\n",
    "    for k,v in raw[p]['m'].items():\n",
    "        pred_list.append(v['y_pred'].squeeze())\n",
    "    \n",
    "    if p =='trainpath':\n",
    "        w = opt.opt_weights(pred_list,y_true)\n",
    "    \n",
    "    pred_list = np.array(pred_list)\n",
    "    # calculate pred\n",
    "    y_pred = np.dot(w,pred_list)\n",
    "    print(y_pred.shape)\n",
    "    #raw[p]={'y_true':y__,'m':{},'eras':eras__,'val_eras':val_eras}\n",
    "    val_eras = raw[p]['val_eras']\n",
    "    eras__ = raw[p]['eras']\n",
    "    y__ = raw[p]['y_true']\n",
    "    print(y__.shape)\n",
    "    ll={name:[]}\n",
    "    for era in val_eras:\n",
    "        inds = np.array(np.where(eras__==era)).squeeze()\n",
    "        l = opt.log_loss_func([1.],[y_pred[inds]],y__[inds])\n",
    "        ll[name].append({'eras':to_int(era),'log_loss':l,'stds':np.nanstd(y_pred[inds].squeeze()-y__[inds])})\n",
    "    ll[name] = pd.DataFrame(ll[name])\n",
    "    \n",
    "    ll_list[n].update(ll)\n"
   ]
  },
  {
   "cell_type": "code",
   "execution_count": null,
   "metadata": {},
   "outputs": [
    {
     "name": "stdout",
     "output_type": "stream",
     "text": [
      "aecgan 0.0000\n",
      "aec 0.2918\n",
      "disentangle 0.0495\n",
      "disentangle_kfold 0.0000\n",
      "disentanglegan 0.0000\n",
      "tsnesimple 0.3104\n",
      "tsnesimplekfold 0.0000\n",
      "simple 0.0000\n",
      "simplekfold 0.3482\n"
     ]
    }
   ],
   "source": [
    "print('\\n'.join(['{} {:1.4f}'.format(m[0],w0) for m,w0 in zip(model_list,w)]))"
   ]
  },
  {
   "cell_type": "code",
   "execution_count": null,
   "metadata": {
    "scrolled": false
   },
   "outputs": [
    {
     "name": "stdout",
     "output_type": "stream",
     "text": [
      "aec\n",
      "0.49936 0.6083 73 120\n",
      "0.49903 0.8333 10 12\n",
      "--\n",
      "aecgan\n",
      "0.49938 0.6000 72 120\n",
      "0.49905 0.6667 8 12\n",
      "--\n",
      "disentangle\n",
      "0.49961 0.6000 72 120\n",
      "0.49945 0.6667 8 12\n",
      "--\n",
      "disentangle_kfold\n",
      "0.49962 0.5000 60 120\n",
      "0.49951 0.5833 7 12\n",
      "--\n",
      "disentanglegan\n",
      "0.49960 0.5333 64 120\n",
      "0.49942 0.6667 8 12\n",
      "--\n",
      "opt\n",
      "0.49889 0.7750 93 120\n",
      "0.49850 0.9167 11 12\n",
      "--\n",
      "simple\n",
      "0.49912 0.6333 76 120\n",
      "0.49866 0.8333 10 12\n",
      "--\n",
      "simplekfold\n",
      "0.49884 0.7417 89 120\n",
      "0.49849 0.8333 10 12\n",
      "--\n",
      "tsnesimple\n",
      "0.49926 0.6667 80 120\n",
      "0.49888 0.6667 8 12\n",
      "--\n",
      "tsnesimplekfold\n",
      "0.49922 0.6333 76 120\n",
      "0.49892 0.8333 10 12\n",
      "--\n"
     ]
    },
    {
     "data": {
      "image/png": "[encoded data removed]",
      "text/plain": [
       "<matplotlib.figure.Figure at 0x7efd42988518>"
      ]
     },
     "metadata": {},
     "output_type": "display_data"
    },
    {
     "data": {
      "image/png": "[encoded data removed]",
      "text/plain": [
       "<matplotlib.figure.Figure at 0x7efd429a9e48>"
      ]
     },
     "metadata": {},
     "output_type": "display_data"
    }
   ],
   "source": [
    "m_list = ['disentangle']#,'aecgan'\n",
    "m_list = list(sorted(ll_list[0].keys()))\n",
    "\n",
    "for n,mn in enumerate(m_list):\n",
    "    tr_dn=np.sum(ll_list[0][mn].log_loss < -np.log(0.5))\n",
    "    tr_nu=ll_list[0][mn].log_loss.shape[0]\n",
    "    tr_cons=tr_dn/float(tr_nu)\n",
    "    tr_std=ll_list[0][mn].stds.mean()\n",
    "    print(mn)\n",
    "    print('{:1.5f} {:1.4f} {} {}'.format(tr_std,tr_cons,tr_dn,tr_nu))\n",
    "    tor_dn=np.sum(ll_list[1][mn].log_loss < -np.log(0.5))\n",
    "    tor_nu=ll_list[1][mn].log_loss.shape[0]\n",
    "    tor_std=ll_list[1][mn].stds.mean()\n",
    "    tor_cons=tor_dn/float(tor_nu)\n",
    "    print('{:1.5f} {:1.4f} {} {}'.format(tor_std,tor_cons,tor_dn,tor_nu))\n",
    "    print('--')\n",
    "    plt.figure(n,figsize=(10,4))\n",
    "    plt.subplot(121)\n",
    "    plt.title('{} train:{:1.2f} tour:{:1.2f}'.format(mn,tr_cons,tor_cons))\n",
    "    plt.scatter(ll_list[0][mn].eras,ll_list[0][mn].log_loss,label='train',color='green')\n",
    "    plt.scatter(ll_list[1][mn].eras,ll_list[1][mn].log_loss,label='validation',color='orange')\n",
    "    plt.ylim(0.675,0.705)\n",
    "    plt.legend()\n",
    "    plt.axhline(y=-np.log(0.5), xmin=0, xmax=1,color='k',linestyle='--')\n",
    "    plt.subplot(122)\n",
    "    plt.title('{} train:{:1.5f} tour:{:1.5f} cons:{:1.3f}'.format(mn,tr_std,tor_std,tor_cons))\n",
    "    plt.scatter(ll_list[0][mn].eras,ll_list[0][mn].stds,label='train',color='green')\n",
    "    plt.scatter(ll_list[1][mn].eras,ll_list[1][mn].stds,label='validation',color='orange')\n"
   ]
  },
  {
   "cell_type": "code",
   "execution_count": null,
   "metadata": {
    "collapsed": true
   },
   "outputs": [],
   "source": []
  },
  {
   "cell_type": "code",
   "execution_count": null,
   "metadata": {
    "collapsed": true
   },
   "outputs": [],
   "source": [
    "aec=models.aec.AecModel()\n",
    "aec.load()\n",
    "adv=models.aec_gan.AecAdvModel()\n",
    "adv.load()\n",
    "adx=models.aec_gan_xg.AecGanXgModel()\n",
    "adx.load()"
   ]
  },
  {
   "cell_type": "code",
   "execution_count": null,
   "metadata": {
    "collapsed": true
   },
   "outputs": [],
   "source": [
    "for x in [X_train,X_val,X_test]:\n",
    "    aecdX = aec.decoder.predict(x)\n",
    "    advdX = adv.decoder.predict(x)\n",
    "    adxdX = adx.aa_inst.decoder.predict(x)\n",
    "    print('---------')\n",
    "    print('aec',metrics.mean_squared_error(aecdX,x))\n",
    "    print('adv',metrics.mean_squared_error(advdX,x))\n",
    "    print('adx',metrics.mean_squared_error(adxdX,x))"
   ]
  },
  {
   "cell_type": "code",
   "execution_count": null,
   "metadata": {
    "collapsed": true
   },
   "outputs": [],
   "source": [
    "mn = 'aecganxg'\n",
    "plt.figure(0)\n",
    "plt.scatter(ll_list[0][mn].eras,ll_list[0][mn].log_loss,label='train',color='green')\n",
    "plt.scatter(ll_list[1][mn].eras,ll_list[1][mn].log_loss,label='validation',color='orange')\n",
    "plt.legend()\n",
    "plt.axhline(y=-np.log(0.5), xmin=0, xmax=1,color='k',linestyle='--')\n",
    "plt.figure(1)\n",
    "plt.scatter(ll_list[1][mn].eras,ll_list[1][mn].log_loss,label='validation',color='orange')\n",
    "plt.legend()\n",
    "plt.axhline(y=-np.log(0.5), xmin=0, xmax=1,color='k',linestyle='--')"
   ]
  },
  {
   "cell_type": "code",
   "execution_count": null,
   "metadata": {
    "collapsed": true
   },
   "outputs": [],
   "source": [
    "import numpy as np\n",
    "import pandas as pd\n",
    "from sklearn.decomposition import FastICA\n",
    "from sklearn.ensemble import ExtraTreesClassifier\n",
    "from sklearn.model_selection import train_test_split\n",
    "from sklearn.pipeline import make_pipeline, make_union\n",
    "from tpot.builtins import StackingEstimator\n",
    "\n",
    "#X_test,y_test,ids,_eras,_datatypes=get_data(data_files[-1]['testpath'])\n",
    "#X_train,y_train,X_val,y_val = get_data_era_balanced(data_files[-1]['trainpath'])\n",
    "\n",
    "# Score on the training set was:0.6049871246781169\n",
    "# exported_pipeline = make_pipeline(\n",
    "#     FastICA(tol=0.35000000000000003),\n",
    "#     StackingEstimator(estimator=ExtraTreesClassifier(bootstrap=False, criterion=\"gini\", max_features=0.1, min_samples_leaf=3, min_samples_split=14, n_estimators=100)),\n",
    "#     ExtraTreesClassifier(bootstrap=False, criterion=\"entropy\", max_features=0.6500000000000001, min_samples_leaf=17, min_samples_split=13, n_estimators=100)\n",
    "# )\n",
    "args = [\n",
    "    FastICA(tol=0.35000000000000003),\n",
    "    StackingEstimator(estimator=ExtraTreesClassifier(bootstrap=False, criterion=\"gini\", max_features=0.1, min_samples_leaf=3, min_samples_split=7, n_estimators=100)),\n",
    "    ExtraTreesClassifier(bootstrap=False, criterion=\"entropy\", max_features=0.6500000000000001, min_samples_leaf=, min_samples_split=6, n_estimators=80),\n",
    "\n",
    "]\n",
    "exported_pipeline = make_pipeline(\n",
    "    *args,\n",
    "    memory=memory\n",
    ")\n",
    "\n",
    "exported_pipeline.fit(X_train, y_train)\n",
    "results = exported_pipeline.predict(X_test)\n",
    "\n",
    "\n",
    "import pickle\n",
    "with open('mymodel','wb') as f:\n",
    "    pickle.dump(model,f)"
   ]
  },
  {
   "cell_type": "code",
   "execution_count": null,
   "metadata": {
    "collapsed": true
   },
   "outputs": [],
   "source": [
    "for p in ['trainpath','testpath']:\n",
    "    X__,y__,ids__,eras__,datatypes__=get_data(data_files[-1][p])\n",
    "    results = exported_pipeline.predict_proba(X__)\n",
    "    val_eras = [x for x in np.unique(eras__) if x not in ['eraX']]\n",
    "    ll = {}\n",
    "    name = 'tpot'\n",
    "    ll[name]=[]\n",
    "    for era in val_eras:\n",
    "        inds = np.array(np.where(eras__==era)).squeeze()\n",
    "        l = opt.log_loss_func([1.],[results[inds]],y__[inds])\n",
    "        ll[name].append({'eras':to_int(era),'log_loss':l})\n",
    "    ll[name] = pd.DataFrame(ll[name])\n",
    "    ll_list.append(ll)\n",
    "    for k in sorted(ll.keys()):\n",
    "        v = ll[k].log_loss\n",
    "        consistency = np.sum(v<-np.log(0.5))/len(v)\n",
    "        mila = np.mean(v)\n",
    "        print('{} {} cons:{:1.4f} logloss:{:1.4f}'.format(p,k,consistency,mila))\n"
   ]
  },
  {
   "cell_type": "code",
   "execution_count": null,
   "metadata": {
    "collapsed": true
   },
   "outputs": [],
   "source": [
    "opt_weights = opt.opt_weights(y_pred_list,y_test[val_inds])"
   ]
  },
  {
   "cell_type": "code",
   "execution_count": null,
   "metadata": {
    "collapsed": true
   },
   "outputs": [],
   "source": [
    "opt_pred = opt.opt_pred(y_pred_list,opt_weights)\n",
    "print(len(y_pred_list),opt_weights.shape,opt_pred.shape)\n",
    "print('final logloss',name,opt.log_loss_func([1.0],[opt_pred],y_test[val_inds]))"
   ]
  },
  {
   "cell_type": "code",
   "execution_count": null,
   "metadata": {
    "collapsed": true
   },
   "outputs": [],
   "source": [
    "print(['{:.8f}'.format(x) for x in opt_weights])\n",
    "print(np.sum(opt_weights))"
   ]
  }
 ],
 "metadata": {
  "kernelspec": {
   "display_name": "Python [conda env:py35]",
   "language": "python",
   "name": "conda-env-py35-py"
  },
  "language_info": {
   "codemirror_mode": {
    "name": "ipython",
    "version": 3
   },
   "file_extension": ".py",
   "mimetype": "text/x-python",
   "name": "python",
   "nbconvert_exporter": "python",
   "pygments_lexer": "ipython3",
   "version": "3.5.4"
  }
 },
 "nbformat": 4,
 "nbformat_minor": 2
}
