{
 "cells": [
  {
   "cell_type": "code",
   "execution_count": 48,
   "metadata": {
    "collapsed": true
   },
   "outputs": [],
   "source": [
    "import yaml\n",
    "import matplotlib.pyplot as plt\n",
    "%matplotlib inline\n",
    "from sklearn import metrics\n",
    "import pandas as pd\n",
    "import numpy as np"
   ]
  },
  {
   "cell_type": "code",
   "execution_count": 49,
   "metadata": {
    "collapsed": true
   },
   "outputs": [],
   "source": [
    "import os,sys\n",
    "root_path = os.path.dirname(os.path.dirname(os.path.abspath('run.py')))\n",
    "sys.path.append(root_path)\n",
    "\n",
    "from cfg import cfg\n",
    "from numerapi.numerapi import NumerAPI\n",
    "import models\n",
    "from data_utils import get_data_era_balanced,data_files,get_data, write_to_csv\n",
    "import opt\n",
    "\n",
    "model_list = [\n",
    "    ('aecgan',models.aec_gan.AecAdvModel,dict(istrain=False)),\n",
    "    ('aec',models.aec.AecModel,dict(istrain=False)),\n",
    "    ('xg',models.xg.XgModel,dict(istrain=False)),\n",
    "    ('aecganxg',models.aec_gan_xg.AecGanXgModel,dict(istrain=False)),# depends on model from AecAdvModel\n",
    "    ('aecgs',models.aec_gan_stack.AecAdvStackModel,dict(istrain=False)),\n",
    "    ('ganmore',models.ganmore.GanMoreModel,dict(istrain=False)),\n",
    "]"
   ]
  },
  {
   "cell_type": "code",
   "execution_count": 50,
   "metadata": {},
   "outputs": [
    {
     "name": "stdout",
     "output_type": "stream",
     "text": [
      "<class 'pandas.core.frame.DataFrame'> <class 'pandas.core.series.Series'> <class 'pandas.core.series.Series'> <class 'pandas.core.series.Series'>\n",
      "(354192, 50) (354192,) (39421, 50) (39421,)\n"
     ]
    }
   ],
   "source": [
    "X_test,y_test,ids,_eras,_datatypes=get_data(data_files[-1]['testpath'])\n",
    "X_train,y_train,X_val,y_val = get_data_era_balanced(data_files[-1]['trainpath'])"
   ]
  },
  {
   "cell_type": "code",
   "execution_count": 5,
   "metadata": {},
   "outputs": [
    {
     "name": "stderr",
     "output_type": "stream",
     "text": [
      "/home/yoyoteng/anaconda3/envs/py35/lib/python3.5/site-packages/numpy/core/fromnumeric.py:57: FutureWarning: 'argmin' is deprecated. Use 'idxmin' instead. The behavior of 'argmin' will be corrected to return the positional minimum in the future. Use 'series.values.argmin' to get the position of the minimum now.\n",
      "  return getattr(obj, method)(*args, **kwds)\n"
     ]
    }
   ],
   "source": [
    "aec=models.aec.AecModel()\n",
    "aec.load()\n",
    "adv=models.aec_gan.AecAdvModel()\n",
    "adv.load()\n",
    "adx=models.aec_gan_xg.AecGanXgModel()\n",
    "adx.load()"
   ]
  },
  {
   "cell_type": "code",
   "execution_count": null,
   "metadata": {
    "collapsed": true
   },
   "outputs": [],
   "source": [
    "for x in [X_train,X_val,X_test]:\n",
    "    aecdX = aec.decoder.predict(x)\n",
    "    advdX = adv.decoder.predict(x)\n",
    "    adxdX = adx.aa_inst.decoder.predict(x)\n",
    "    print('---------')\n",
    "    print('aec',metrics.mean_squared_error(aecdX,x))\n",
    "    print('adv',metrics.mean_squared_error(advdX,x))\n",
    "    print('adx',metrics.mean_squared_error(adxdX,x))"
   ]
  },
  {
   "cell_type": "code",
   "execution_count": null,
   "metadata": {},
   "outputs": [],
   "source": [
    "import imp\n",
    "imp.reload(models)\n",
    "model_list = [\n",
    "#     ('aecgan',models.aec_gan.AecAdvModel,dict(istrain=False)),\n",
    "#     ('aec',models.aec.AecModel,dict(istrain=False)),\n",
    "#     ('xg',models.xg.XgModel,dict(istrain=False)),\n",
    "#     ('aecganxg',models.aec_gan_xg.AecGanXgModel,dict(istrain=False)),# depends on model from AecAdvModel\n",
    "#     ('aecgs',models.aec_gan_stack.AecAdvStackModel,dict(istrain=False)), # depends on model from AecAdvModel\n",
    "#     ('ganmore',models.ganmore.GanMoreModel,dict(istrain=False)),\n",
    "#     ('disentangle',models.disentangle.DisentangleModel,dict(istrain=False)),\n",
    "#     ('disentanglegan',models.disentanglegan.DisentangleGanModel,dict(istrain=False)),\n",
    "    ('idg',models.icadisengan.IcaDisentangleGanModel,dict(istrain=False)),\n",
    "]"
   ]
  },
  {
   "cell_type": "code",
   "execution_count": 62,
   "metadata": {
    "collapsed": true
   },
   "outputs": [],
   "source": [
    "val_inds = np.array(np.where(_datatypes=='validation')).squeeze()"
   ]
  },
  {
   "cell_type": "code",
   "execution_count": 63,
   "metadata": {},
   "outputs": [
    {
     "data": {
      "text/plain": [
       "(46362,)"
      ]
     },
     "execution_count": 63,
     "metadata": {},
     "output_type": "execute_result"
    }
   ],
   "source": [
    "val_inds.shape"
   ]
  },
  {
   "cell_type": "code",
   "execution_count": 71,
   "metadata": {},
   "outputs": [
    {
     "name": "stdout",
     "output_type": "stream",
     "text": [
      "trainpath idg cons:0.6417 logloss:0.6925\n",
      "testpath idg cons:0.5833 logloss:0.6928\n"
     ]
    }
   ],
   "source": [
    "def to_int(e):\n",
    "    try:\n",
    "        return int(e.strip('era'))\n",
    "    except:\n",
    "        return float('nan')\n",
    "ll_list = []\n",
    "for p in ['trainpath','testpath']:\n",
    "    X__,y__,ids__,eras__,datatypes__=get_data(data_files[-1][p])\n",
    "    val_eras = sorted([x for x in np.unique(eras__) if x not in ['eraX']])\n",
    "    ll={}\n",
    "    for name,clsf,params in model_list:\n",
    "        inst = clsf()\n",
    "        inst.load()\n",
    "        y_pred,_ = inst.predict(X__)\n",
    "        ll[name]=[]\n",
    "        for era in val_eras:\n",
    "            inds = np.array(np.where(eras__==era)).squeeze()\n",
    "            l = opt.log_loss_func([1.],[y_pred[inds]],y__[inds])\n",
    "            ll[name].append({'eras':to_int(era),'log_loss':l})\n",
    "        ll[name] = pd.DataFrame(ll[name])\n",
    "    ll_list.append(ll)\n",
    "    for k in sorted(ll.keys()):\n",
    "        v = ll[k].log_loss\n",
    "        consistency = np.sum(v<-np.log(0.5))/len(v)\n",
    "        mila = np.mean(v)\n",
    "        print('{} {} cons:{:1.4f} logloss:{:1.4f}'.format(p,k,consistency,mila))\n",
    "# https://github.com/numerai/submission-criteria/blob/daac1970a984cd4392c720771d3c5c4bcb9de1d4/submission_criteria/database_manager.py#L71 "
   ]
  },
  {
   "cell_type": "code",
   "execution_count": 58,
   "metadata": {
    "collapsed": true
   },
   "outputs": [],
   "source": [
    "# logloss aecgan 0.693058273797\n",
    "# logloss aec 0.692759657592\n",
    "# logloss xg 0.693008686052\n",
    "# logloss aecganxg 0.692780967413"
   ]
  },
  {
   "cell_type": "code",
   "execution_count": 69,
   "metadata": {},
   "outputs": [
    {
     "name": "stdout",
     "output_type": "stream",
     "text": [
      "0.6417 77 120\n",
      "0.5000 6 12\n",
      "--\n"
     ]
    }
   ],
   "source": [
    "m_list = ['idg']\n",
    "for mn in m_list:\n",
    "    dn=np.sum(ll_list[0][mn].log_loss < -np.log(0.5))\n",
    "    nu=ll_list[0][mn].log_loss.shape[0]\n",
    "    print('{:1.4f} {} {}'.format(dn/float(nu),dn,nu))\n",
    "    dn=np.sum(ll_list[1][mn].log_loss < -np.log(0.5))\n",
    "    nu=ll_list[1][mn].log_loss.shape[0]\n",
    "    print('{:1.4f} {} {}'.format(dn/float(nu),dn,nu))\n",
    "    print('--')"
   ]
  },
  {
   "cell_type": "code",
   "execution_count": 70,
   "metadata": {},
   "outputs": [
    {
     "data": {
      "text/plain": [
       "<matplotlib.lines.Line2D at 0x7f8f5745f908>"
      ]
     },
     "execution_count": 70,
     "metadata": {},
     "output_type": "execute_result"
    },
    {
     "data": {
      "image/png": "[encoded data removed]",
      "text/plain": [
       "<matplotlib.figure.Figure at 0x7f8f7a3196d8>"
      ]
     },
     "metadata": {},
     "output_type": "display_data"
    },
    {
     "data": {
      "image/png": "[encoded data removed]",
      "text/plain": [
       "<matplotlib.figure.Figure at 0x7f8f5683d6a0>"
      ]
     },
     "metadata": {},
     "output_type": "display_data"
    }
   ],
   "source": [
    "mn = 'idg'\n",
    "plt.figure(0)\n",
    "plt.scatter(ll_list[0][mn].eras,ll_list[0][mn].log_loss,label='train',color='green')\n",
    "plt.scatter(ll_list[1][mn].eras,ll_list[1][mn].log_loss,label='validation',color='orange')\n",
    "plt.legend()\n",
    "plt.axhline(y=-np.log(0.5), xmin=0, xmax=1,color='k',linestyle='--')\n",
    "plt.figure(1)\n",
    "plt.scatter(ll_list[1][mn].eras,ll_list[1][mn].log_loss,label='validation',color='orange')\n",
    "plt.legend()\n",
    "plt.axhline(y=-np.log(0.5), xmin=0, xmax=1,color='k',linestyle='--')"
   ]
  },
  {
   "cell_type": "code",
   "execution_count": 12,
   "metadata": {},
   "outputs": [
    {
     "data": {
      "text/plain": [
       "<matplotlib.lines.Line2D at 0x7f8f6f09e940>"
      ]
     },
     "execution_count": 12,
     "metadata": {},
     "output_type": "execute_result"
    },
    {
     "data": {
      "image/png": "[encoded data removed]",
      "text/plain": [
       "<matplotlib.figure.Figure at 0x7f8f6f11eb70>"
      ]
     },
     "metadata": {},
     "output_type": "display_data"
    },
    {
     "data": {
      "image/png": "[encoded data removed]",
      "text/plain": [
       "<matplotlib.figure.Figure at 0x7f8f6f071ef0>"
      ]
     },
     "metadata": {},
     "output_type": "display_data"
    }
   ],
   "source": [
    "mn = 'aecganxg'\n",
    "plt.figure(0)\n",
    "plt.scatter(ll_list[0][mn].eras,ll_list[0][mn].log_loss,label='train',color='green')\n",
    "plt.scatter(ll_list[1][mn].eras,ll_list[1][mn].log_loss,label='validation',color='orange')\n",
    "plt.legend()\n",
    "plt.axhline(y=-np.log(0.5), xmin=0, xmax=1,color='k',linestyle='--')\n",
    "plt.figure(1)\n",
    "plt.scatter(ll_list[1][mn].eras,ll_list[1][mn].log_loss,label='validation',color='orange')\n",
    "plt.legend()\n",
    "plt.axhline(y=-np.log(0.5), xmin=0, xmax=1,color='k',linestyle='--')"
   ]
  },
  {
   "cell_type": "code",
   "execution_count": 29,
   "metadata": {},
   "outputs": [
    {
     "name": "stdout",
     "output_type": "stream",
     "text": [
      "________________________________________________________________________________\n",
      "[Memory] Calling sklearn.pipeline._fit_transform_one...\n",
      "_fit_transform_one(FastICA(algorithm='parallel', fun='logcosh', fun_args=None, max_iter=200,\n",
      "    n_components=None, random_state=None, tol=0.35000000000000003,\n",
      "    w_init=None, whiten=True), \n",
      "None, array([[ 0.32541, ...,  0.50667],\n",
      "       ..., \n",
      "       [ 0.43276, ...,  0.54182]]), \n",
      "array([ 0., ...,  1.]))\n",
      "_______________________________________________fit_transform_one - 12.4s, 0.2min\n",
      "________________________________________________________________________________\n",
      "[Memory] Calling sklearn.pipeline._fit_transform_one...\n",
      "_fit_transform_one(StackingEstimator(estimator=ExtraTreesClassifier(bootstrap=False, class_weight=None, criterion='gini',\n",
      "           max_depth=None, max_features=0.1, max_leaf_nodes=None,\n",
      "           min_impurity_decrease=0.0, min_impurity_split=None,\n",
      "           min_samples_leaf=3, min_samples_split=7,\n",
      "           min_weight_fraction_leaf=0.0, n_estimators=100, n_jobs=1,\n",
      "           oob_score=False, random_state=None, verbose=0, warm_start=False)), \n",
      "None, array([[ -5.782008e-04, ...,   2.108717e-05],\n",
      "       ..., \n",
      "       [ -4.237404e-04, ...,  -2.471698e-03]]), \n",
      "array([ 0., ...,  1.]))\n",
      "______________________________________________fit_transform_one - 124.9s, 2.1min\n"
     ]
    }
   ],
   "source": [
    "import numpy as np\n",
    "import pandas as pd\n",
    "from sklearn.decomposition import FastICA\n",
    "from sklearn.ensemble import ExtraTreesClassifier\n",
    "from sklearn.model_selection import train_test_split\n",
    "from sklearn.pipeline import make_pipeline, make_union\n",
    "from tpot.builtins import StackingEstimator\n",
    "\n",
    "#X_test,y_test,ids,_eras,_datatypes=get_data(data_files[-1]['testpath'])\n",
    "#X_train,y_train,X_val,y_val = get_data_era_balanced(data_files[-1]['trainpath'])\n",
    "\n",
    "# Score on the training set was:0.6049871246781169\n",
    "# exported_pipeline = make_pipeline(\n",
    "#     FastICA(tol=0.35000000000000003),\n",
    "#     StackingEstimator(estimator=ExtraTreesClassifier(bootstrap=False, criterion=\"gini\", max_features=0.1, min_samples_leaf=3, min_samples_split=14, n_estimators=100)),\n",
    "#     ExtraTreesClassifier(bootstrap=False, criterion=\"entropy\", max_features=0.6500000000000001, min_samples_leaf=17, min_samples_split=13, n_estimators=100)\n",
    "# )\n",
    "args = [\n",
    "    FastICA(tol=0.35000000000000003),\n",
    "    StackingEstimator(estimator=ExtraTreesClassifier(bootstrap=False, criterion=\"gini\", max_features=0.1, min_samples_leaf=3, min_samples_split=7, n_estimators=100)),\n",
    "    ExtraTreesClassifier(bootstrap=False, criterion=\"entropy\", max_features=0.6500000000000001, min_samples_leaf=, min_samples_split=6, n_estimators=80),\n",
    "\n",
    "]\n",
    "exported_pipeline = make_pipeline(\n",
    "    *args,\n",
    "    memory=memory\n",
    ")\n",
    "\n",
    "exported_pipeline.fit(X_train, y_train)\n",
    "results = exported_pipeline.predict(X_test)\n",
    "\n",
    "\n",
    "import pickle\n",
    "with open('mymodel','wb') as f:\n",
    "    pickle.dump(model,f)"
   ]
  },
  {
   "cell_type": "code",
   "execution_count": 32,
   "metadata": {},
   "outputs": [
    {
     "name": "stdout",
     "output_type": "stream",
     "text": [
      "trainpath tpot cons:1.0000 logloss:0.1618\n",
      "testpath tpot cons:0.0000 logloss:1.5707\n"
     ]
    }
   ],
   "source": [
    "for p in ['trainpath','testpath']:\n",
    "    X__,y__,ids__,eras__,datatypes__=get_data(data_files[-1][p])\n",
    "    results = exported_pipeline.predict_proba(X__)\n",
    "    val_eras = [x for x in np.unique(eras__) if x not in ['eraX']]\n",
    "    ll = {}\n",
    "    name = 'tpot'\n",
    "    ll[name]=[]\n",
    "    for era in val_eras:\n",
    "        inds = np.array(np.where(eras__==era)).squeeze()\n",
    "        l = opt.log_loss_func([1.],[results[inds]],y__[inds])\n",
    "        ll[name].append({'eras':to_int(era),'log_loss':l})\n",
    "    ll[name] = pd.DataFrame(ll[name])\n",
    "    ll_list.append(ll)\n",
    "    for k in sorted(ll.keys()):\n",
    "        v = ll[k].log_loss\n",
    "        consistency = np.sum(v<-np.log(0.5))/len(v)\n",
    "        mila = np.mean(v)\n",
    "        print('{} {} cons:{:1.4f} logloss:{:1.4f}'.format(p,k,consistency,mila))\n"
   ]
  },
  {
   "cell_type": "code",
   "execution_count": null,
   "metadata": {
    "collapsed": true
   },
   "outputs": [],
   "source": [
    "opt_weights = opt.opt_weights(y_pred_list,y_test[val_inds])"
   ]
  },
  {
   "cell_type": "code",
   "execution_count": null,
   "metadata": {
    "collapsed": true
   },
   "outputs": [],
   "source": [
    "opt_pred = opt.opt_pred(y_pred_list,opt_weights)\n",
    "print(len(y_pred_list),opt_weights.shape,opt_pred.shape)\n",
    "print('final logloss',name,opt.log_loss_func([1.0],[opt_pred],y_test[val_inds]))"
   ]
  },
  {
   "cell_type": "code",
   "execution_count": null,
   "metadata": {
    "collapsed": true
   },
   "outputs": [],
   "source": [
    "print(['{:.8f}'.format(x) for x in opt_weights])\n",
    "print(np.sum(opt_weights))"
   ]
  }
 ],
 "metadata": {
  "kernelspec": {
   "display_name": "Python [conda env:py35]",
   "language": "python",
   "name": "conda-env-py35-py"
  },
  "language_info": {
   "codemirror_mode": {
    "name": "ipython",
    "version": 3
   },
   "file_extension": ".py",
   "mimetype": "text/x-python",
   "name": "python",
   "nbconvert_exporter": "python",
   "pygments_lexer": "ipython3",
   "version": "3.5.4"
  }
 },
 "nbformat": 4,
 "nbformat_minor": 2
}
