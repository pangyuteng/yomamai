{
 "cells": [
  {
   "cell_type": "code",
   "execution_count": 2,
   "metadata": {
    "collapsed": true
   },
   "outputs": [],
   "source": [
    "import yaml\n",
    "import matplotlib.pyplot as plt\n",
    "%matplotlib inline\n",
    "from sklearn import metrics\n",
    "import pandas as pd\n",
    "import numpy as np"
   ]
  },
  {
   "cell_type": "code",
   "execution_count": 3,
   "metadata": {},
   "outputs": [
    {
     "name": "stdout",
     "output_type": "stream",
     "text": [
      "WARN: OMP_NUM_THREADS=None =>\n",
      "... If you are using openblas if you are using openblas set OMP_NUM_THREADS=1 or risk subprocess calls hanging indefinitely\n"
     ]
    },
    {
     "name": "stderr",
     "output_type": "stream",
     "text": [
      "/home/yoyoteng/anaconda3/envs/py35/lib/python3.5/site-packages/sklearn/cross_validation.py:41: DeprecationWarning: This module was deprecated in version 0.18 in favor of the model_selection module into which all the refactored classes and functions are moved. Also note that the interface of the new CV iterators are different from that of this module. This module will be removed in 0.20.\n",
      "  \"This module will be removed in 0.20.\", DeprecationWarning)\n",
      "Using TensorFlow backend.\n"
     ]
    }
   ],
   "source": [
    "import os,sys\n",
    "root_path = os.path.dirname(os.path.dirname(os.path.abspath('run.py')))\n",
    "sys.path.append(root_path)\n",
    "from cfg import cfg\n",
    "from numerapi.numerapi import NumerAPI\n",
    "import models\n",
    "from data_utils import data_files\n",
    "from data_utils import get_data_era_balanced,data_files,get_data, write_to_csv\n"
   ]
  },
  {
   "cell_type": "code",
   "execution_count": 4,
   "metadata": {
    "collapsed": true
   },
   "outputs": [],
   "source": [
    "kwargs = cfg['api']"
   ]
  },
  {
   "cell_type": "code",
   "execution_count": 6,
   "metadata": {
    "collapsed": true
   },
   "outputs": [],
   "source": [
    "import os,sys\n",
    "root_path = os.path.dirname(os.path.dirname(os.path.abspath('run.py')))\n",
    "sys.path.append(root_path)\n",
    "\n",
    "from cfg import cfg\n",
    "from numerapi.numerapi import NumerAPI\n",
    "import models\n",
    "from data_utils import get_data_era_balanced,data_files,get_data, write_to_csv\n",
    "import imp\n",
    "from models import opt\n",
    "\n",
    "model_list = [\n",
    "    ('aecgan',models.aec_gan.AecAdvModel,dict(istrain=False)),\n",
    "    ('aec',models.aec.AecModel,dict(istrain=False)),\n",
    "    ('xg',models.xg.XgModel,dict(istrain=False)),\n",
    "    ('aecganxg',models.aec_gan_xg.AecGanXgModel,dict(istrain=False)),# depends on model from AecAdvModel\n",
    "    ('aecgs',models.aec_gan_stack.AecAdvStackModel,dict(istrain=False)),\n",
    "    ('ganmore',models.ganmore.GanMoreModel,dict(istrain=False)),\n",
    "    ('simplekfold',models.simplekfold.SimpleKfold,dict(istrain=False)),\n",
    "    ('disentangle_kfold',models.disentangle_kfold.DisentangleKfoldModel,dict(istrain=False)),\n",
    "]"
   ]
  },
  {
   "cell_type": "code",
   "execution_count": 7,
   "metadata": {},
   "outputs": [
    {
     "name": "stdout",
     "output_type": "stream",
     "text": [
      "<class 'pandas.core.frame.DataFrame'> <class 'pandas.core.series.Series'> <class 'pandas.core.series.Series'> <class 'pandas.core.series.Series'>\n",
      "(314837, 50) (314837,) (78776, 50) (78776,)\n"
     ]
    }
   ],
   "source": [
    "X_test,y_test,ids,_eras,_datatypes=get_data(data_files[-1]['testpath'])\n",
    "X_train,y_train,X_val,y_val = get_data_era_balanced(data_files[-1]['trainpath'])"
   ]
  },
  {
   "cell_type": "code",
   "execution_count": 12,
   "metadata": {
    "collapsed": true
   },
   "outputs": [],
   "source": [
    "import imp\n",
    "imp.reload(models)\n",
    "model_list = [\n",
    "#     ('aecgan',models.aec_gan.AecAdvModel,dict(istrain=False)),\n",
    "#    ('aec',models.aec.AecModel,dict(istrain=False)),\n",
    "     #('xg',models.xg.XgModel,dict(istrain=False)),\n",
    "     #('aecganxg',models.aec_gan_xg.AecGanXgModel,dict(istrain=False)),# depends on model from AecAdvModel\n",
    "     #('aecgs',models.aec_gan_stack.AecAdvStackModel,dict(istrain=False)), # depends on model from AecAdvModel\n",
    "#    ('ganmore',models.ganmore.GanMoreModel,dict(istrain=False)),\n",
    "#     ('disentangle',models.disentangle.DisentangleModel,dict(istrain=False)),\n",
    "#     ('disentangle_kfold',models.disentangle_kfold.DisentangleKfoldModel,dict(istrain=False)),\n",
    "#     ('disentanglegan',models.disentanglegan.DisentangleGanModel,dict(istrain=False)),\n",
    "     #('idg',models.icadisengan.IcaDisentangleGanModel,dict(istrain=False)),\n",
    "     #('mdg',models.moddisengan.DisentangleModel,dict(istrain=True)),\n",
    "#    ('tsnesimple',models.tsne_simple.TsneSimple,dict(istrain=False)),\n",
    "#    ('tsnesimplekfold',models.tsne_simplekfold.TsneSimpleKfold,dict(istrain=False)),\n",
    "#    ('simple',models.simple.Simple,dict(istrain=False)),\n",
    "    #('simplekfold',models.simplekfold.SimpleKfold,dict(istrain=False)),\n",
    "    #('res',models.res.Res,dict(istrain=False)),\n",
    "    #('highway',models.highway.HighwayModel,dict(istrain=False)),\n",
    "    #('highway2',models.highway2.HighwayModel,dict(istrain=False)),\n",
    "    ('highwaykfold',models.highway_kfold.HighwayModel,dict(istrain=False)),\n",
    "    ('highway2kfold',models.highway2_kfold.HighwayModel,dict(istrain=False)),\n",
    "]"
   ]
  },
  {
   "cell_type": "code",
   "execution_count": 13,
   "metadata": {
    "collapsed": true
   },
   "outputs": [],
   "source": [
    "val_inds = np.array(np.where(_datatypes=='validation')).squeeze()"
   ]
  },
  {
   "cell_type": "code",
   "execution_count": 14,
   "metadata": {},
   "outputs": [
    {
     "data": {
      "text/plain": [
       "(46362,)"
      ]
     },
     "execution_count": 14,
     "metadata": {},
     "output_type": "execute_result"
    }
   ],
   "source": [
    "val_inds.shape"
   ]
  },
  {
   "cell_type": "code",
   "execution_count": null,
   "metadata": {
    "collapsed": true
   },
   "outputs": [],
   "source": []
  },
  {
   "cell_type": "code",
   "execution_count": 15,
   "metadata": {
    "scrolled": false
   },
   "outputs": [
    {
     "name": "stdout",
     "output_type": "stream",
     "text": [
      "<class 'pandas.core.frame.DataFrame'> <class 'pandas.core.series.Series'> <class 'pandas.core.series.Series'> <class 'pandas.core.series.Series'>\n",
      "(314837, 50) (314837,) (78776, 50) (78776,)\n"
     ]
    },
    {
     "name": "stderr",
     "output_type": "stream",
     "text": [
      "/home/yoyoteng/scisoft/numerai/yomamai/models/highway_kfold.py:118: UserWarning: The `Highway` layer is deprecated and will be removed after 06/2017.\n",
      "  warnings.warn('The `Highway` layer is deprecated '\n",
      "/home/yoyoteng/anaconda3/envs/py35/lib/python3.5/site-packages/numpy/core/fromnumeric.py:57: FutureWarning: 'argmin' is deprecated. Use 'idxmin' instead. The behavior of 'argmin' will be corrected to return the positional minimum in the future. Use 'series.values.argmin' to get the position of the minimum now.\n",
      "  return getattr(obj, method)(*args, **kwds)\n"
     ]
    },
    {
     "name": "stdout",
     "output_type": "stream",
     "text": [
      "[ 0.37576301  0.30408745  0.03308699  0.11466869  0.          0.          0.\n",
      "  0.          0.          0.17239385] (10, 78776) (78776,)\n"
     ]
    },
    {
     "name": "stderr",
     "output_type": "stream",
     "text": [
      "/home/yoyoteng/scisoft/numerai/yomamai/models/highway2_kfold.py:118: UserWarning: The `Highway` layer is deprecated and will be removed after 06/2017.\n",
      "  warnings.warn('The `Highway` layer is deprecated '\n"
     ]
    },
    {
     "name": "stdout",
     "output_type": "stream",
     "text": [
      "[  1.32513807e-01   1.66533454e-16   1.93573019e-01   2.77555756e-16\n",
      "   1.31085834e-01   1.11022302e-16   2.15175633e-01   6.97849925e-02\n",
      "   1.11022302e-16   2.57866715e-01] (10, 78776) (78776,)\n",
      "trainpath highway2kfold cons:0.6833 logloss:0.6924\n",
      "trainpath highwaykfold cons:0.6917 logloss:0.6924\n",
      "<class 'pandas.core.frame.DataFrame'> <class 'pandas.core.series.Series'> <class 'pandas.core.series.Series'> <class 'pandas.core.series.Series'>\n",
      "(37084, 50) (37084,) (9278, 50) (9278,)\n",
      "[ 0.37576301  0.30408745  0.03308699  0.11466869  0.          0.          0.\n",
      "  0.          0.          0.17239385] (10, 9278) (9278,)\n",
      "[  1.32513807e-01   1.66533454e-16   1.93573019e-01   2.77555756e-16\n",
      "   1.31085834e-01   1.11022302e-16   2.15175633e-01   6.97849925e-02\n",
      "   1.11022302e-16   2.57866715e-01] (10, 9278) (9278,)\n",
      "testpath highway2kfold cons:0.8333 logloss:0.6918\n",
      "testpath highwaykfold cons:1.0000 logloss:0.6918\n"
     ]
    }
   ],
   "source": [
    "\n",
    "def to_int(e):\n",
    "    try:\n",
    "        return int(e.strip('era'))\n",
    "    except:\n",
    "        return float('nan')\n",
    "ll_list = [{},{}]\n",
    "raw = {}\n",
    "\n",
    "\n",
    "for n,p in enumerate(['trainpath','testpath']):\n",
    "    X__,y__,ids__,eras__,datatypes__=get_data(data_files[-1][p])\n",
    "    index_dict={}\n",
    "    X_train_tr,y_train_tr,X_val_tr,y_val_tr = get_data_era_balanced(\n",
    "        data_files[-1][p],index_dict=index_dict)\n",
    "    X__ = X_val_tr\n",
    "    y__ = y_val_tr\n",
    "    \n",
    "    eras__ = eras__[index_dict['validation']]\n",
    "    \n",
    "    val_eras = sorted([x for x in np.unique(eras__) if x not in ['eraX']])\n",
    "    raw[p]={'y_true':y__,'m':{},'eras':eras__,'val_eras':val_eras}\n",
    "    ll={}\n",
    "    for name,clsf,params in model_list:\n",
    "        inst = clsf()\n",
    "        inst.load()\n",
    "        y_pred,_ = inst.predict(X__)\n",
    "        raw[p]['m'][name]={'y_pred':y_pred}\n",
    "        ll[name]=[]\n",
    "        for era in val_eras:\n",
    "            inds = np.array(np.where(eras__==era)).squeeze()            \n",
    "            l = opt.log_loss_func([1.],[y_pred[inds]],y__[inds])\n",
    "            ll[name].append({'eras':to_int(era),'log_loss':l,'stds':np.nanstd(y_pred[inds].squeeze()-y__[inds])})\n",
    "        ll[name] = pd.DataFrame(ll[name])\n",
    "    ll_list[n].update(ll)\n",
    "    for k in sorted(ll.keys()):\n",
    "        v = ll[k].log_loss\n",
    "        consistency = np.sum(v<-np.log(0.5))/len(v)\n",
    "        mila = np.mean(v)\n",
    "        print('{} {} cons:{:1.4f} logloss:{:1.4f}'.format(p,k,consistency,mila))\n",
    "# https://github.com/numerai/submission-criteria/blob/daac1970a984cd4392c720771d3c5c4bcb9de1d4/submission_criteria/database_manager.py#L71 "
   ]
  },
  {
   "cell_type": "code",
   "execution_count": 16,
   "metadata": {
    "scrolled": false
   },
   "outputs": [
    {
     "name": "stdout",
     "output_type": "stream",
     "text": [
      "ok\n",
      "!! (2, 78776) (78776,)\n",
      "Ensemble Score: 0.2496204480555625\n",
      "Best Weights: [ 0.34096094  0.65903906]\n",
      "Ensemble Score: 0.249620008015013\n",
      "Best Weights: [ 0.3574318  0.6425682]\n",
      "Ensemble Score: 0.24963052060268778\n",
      "Best Weights: [ 0.13152545  0.86847455]\n",
      "Ensemble Score: 0.24961836171500093\n",
      "Best Weights: [ 0.50685856  0.49314144]\n",
      "Ensemble Score: 0.24962824909043424\n",
      "Best Weights: [ 0.16669667  0.83330333]\n",
      "Ensemble Score: 0.24961835565021362\n",
      "Best Weights: [ 0.47593067  0.52406933]\n",
      "Ensemble Score: 0.2496192672611202\n",
      "Best Weights: [ 0.58956334  0.41043666]\n",
      "Ensemble Score: 0.24962353095166462\n",
      "Best Weights: [ 0.25605506  0.74394494]\n",
      "Ensemble Score: 0.24961926056238712\n",
      "Best Weights: [ 0.39151109  0.60848891]\n",
      "Ensemble Score: 0.2496203000533614\n",
      "Best Weights: [ 0.34629039  0.65370961]\n",
      "-----------------------------------\n",
      "candidate weight info {'score': 0.24961835565021362, 'weights': array([ 0.47593067,  0.52406933])}\n",
      "-----------------------------------\n",
      "(78776,)\n",
      "(78776,)\n",
      "(9278,)\n",
      "(9278,)\n"
     ]
    }
   ],
   "source": [
    "\n",
    "\n",
    "print('ok')\n",
    "name = 'opt'\n",
    "for n,p in enumerate(['trainpath','testpath']):\n",
    "    y_true = raw[p]['y_true']\n",
    "    pred_list = []\n",
    "    for k,v in raw[p]['m'].items():\n",
    "        pred_list.append(v['y_pred'].squeeze())\n",
    "    \n",
    "    if p =='trainpath':\n",
    "        w = opt.opt_weights(pred_list,y_true)\n",
    "    \n",
    "    pred_list = np.array(pred_list)\n",
    "    # calculate pred\n",
    "    y_pred = np.dot(w,pred_list)\n",
    "    print(y_pred.shape)\n",
    "    #raw[p]={'y_true':y__,'m':{},'eras':eras__,'val_eras':val_eras}\n",
    "    val_eras = raw[p]['val_eras']\n",
    "    eras__ = raw[p]['eras']\n",
    "    y__ = raw[p]['y_true']\n",
    "    print(y__.shape)\n",
    "    ll={name:[]}\n",
    "    for era in val_eras:\n",
    "        inds = np.array(np.where(eras__==era)).squeeze()\n",
    "        l = opt.log_loss_func([1.],[y_pred[inds]],y__[inds])\n",
    "        ll[name].append({'eras':to_int(era),'log_loss':l,'stds':np.nanstd(y_pred[inds].squeeze()-y__[inds])})\n",
    "    ll[name] = pd.DataFrame(ll[name])\n",
    "    \n",
    "    ll_list[n].update(ll)\n"
   ]
  },
  {
   "cell_type": "code",
   "execution_count": 17,
   "metadata": {},
   "outputs": [
    {
     "name": "stdout",
     "output_type": "stream",
     "text": [
      "highwaykfold 0.4759\n",
      "highway2kfold 0.5241\n"
     ]
    }
   ],
   "source": [
    "print('\\n'.join(['{} {:1.4f}'.format(m[0],w0) for m,w0 in zip(model_list,w)]))"
   ]
  },
  {
   "cell_type": "code",
   "execution_count": 18,
   "metadata": {
    "scrolled": false
   },
   "outputs": [
    {
     "name": "stdout",
     "output_type": "stream",
     "text": [
      "highway2kfold\n",
      "0.49925 0.6833 82 120\n",
      "0.49889 0.8333 10 12\n",
      "--\n",
      "highwaykfold\n",
      "0.49924 0.6917 83 120\n",
      "0.49888 1.0000 12 12\n",
      "--\n",
      "opt\n",
      "0.49922 0.6917 83 120\n",
      "0.49886 1.0000 12 12\n",
      "--\n"
     ]
    },
    {
     "data": {
      "image/png": "[encoded data removed]",
      "text/plain": [
       "<matplotlib.figure.Figure at 0x7f4aeeab2080>"
      ]
     },
     "metadata": {},
     "output_type": "display_data"
    },
    {
     "data": {
      "image/png": "[encoded data removed]",
      "text/plain": [
       "<matplotlib.figure.Figure at 0x7f4aeea35ac8>"
      ]
     },
     "metadata": {},
     "output_type": "display_data"
    },
    {
     "data": {
      "image/png": "[encoded data removed]",
      "text/plain": [
       "<matplotlib.figure.Figure at 0x7f4aee988828>"
      ]
     },
     "metadata": {},
     "output_type": "display_data"
    }
   ],
   "source": [
    "m_list = ['disentangle']#,'aecgan'\n",
    "m_list = list(sorted(ll_list[0].keys()))\n",
    "\n",
    "for n,mn in enumerate(m_list):\n",
    "    tr_dn=np.sum(ll_list[0][mn].log_loss < -np.log(0.5))\n",
    "    tr_nu=ll_list[0][mn].log_loss.shape[0]\n",
    "    tr_cons=tr_dn/float(tr_nu)\n",
    "    tr_std=ll_list[0][mn].stds.mean()\n",
    "    print(mn)\n",
    "    print('{:1.5f} {:1.4f} {} {}'.format(tr_std,tr_cons,tr_dn,tr_nu))\n",
    "    tor_dn=np.sum(ll_list[1][mn].log_loss < -np.log(0.5))\n",
    "    tor_nu=ll_list[1][mn].log_loss.shape[0]\n",
    "    tor_std=ll_list[1][mn].stds.mean()\n",
    "    tor_cons=tor_dn/float(tor_nu)\n",
    "    print('{:1.5f} {:1.4f} {} {}'.format(tor_std,tor_cons,tor_dn,tor_nu))\n",
    "    print('--')\n",
    "    plt.figure(n,figsize=(10,4))\n",
    "    plt.subplot(121)\n",
    "    plt.title('{} train:{:1.2f} tour:{:1.2f}'.format(mn,tr_cons,tor_cons))\n",
    "    plt.scatter(ll_list[0][mn].eras,ll_list[0][mn].log_loss,label='train',color='green')\n",
    "    plt.scatter(ll_list[1][mn].eras,ll_list[1][mn].log_loss,label='validation',color='orange')\n",
    "    plt.ylim(0.675,0.705)\n",
    "    plt.legend()\n",
    "    plt.axhline(y=-np.log(0.5), xmin=0, xmax=1,color='k',linestyle='--')\n",
    "    plt.subplot(122)\n",
    "    plt.title('{} train:{:1.5f} tour:{:1.5f} cons:{:1.3f}'.format(mn,tr_std,tor_std,tor_cons))\n",
    "    plt.scatter(ll_list[0][mn].eras,ll_list[0][mn].stds,label='train',color='green')\n",
    "    plt.scatter(ll_list[1][mn].eras,ll_list[1][mn].stds,label='validation',color='orange')\n"
   ]
  },
  {
   "cell_type": "code",
   "execution_count": null,
   "metadata": {},
   "outputs": [],
   "source": [
    "m_list = ['disentangle_kfold']\n",
    "for n,mn in enumerate(m_list):\n",
    "    tr_dn=np.sum(ll_list[0][mn].log_loss < -np.log(0.5))\n",
    "    tr_nu=ll_list[0][mn].log_loss.shape[0]\n",
    "    tr_cons=tr_dn/float(tr_nu)\n",
    "    tr_std=ll_list[0][mn].stds.mean()\n",
    "    print(mn)\n",
    "    print('{:1.5f} {:1.4f} {} {}'.format(tr_std,tr_cons,tr_dn,tr_nu))\n",
    "    tor_dn=np.sum(ll_list[1][mn].log_loss < -np.log(0.5))\n",
    "    tor_nu=ll_list[1][mn].log_loss.shape[0]\n",
    "    tor_std=ll_list[1][mn].stds.mean()\n",
    "    tor_cons=tor_dn/float(tor_nu)\n",
    "    print('{:1.5f} {:1.4f} {} {}'.format(tor_std,tor_cons,tor_dn,tor_nu))\n",
    "    print('--')\n",
    "    plt.figure(n,figsize=(10,4))\n",
    "    plt.subplot(121)\n",
    "    plt.title('{} train:{:1.2f} tour:{:1.2f}'.format(mn,tr_cons,tor_cons))\n",
    "    plt.scatter(ll_list[0][mn].eras,ll_list[0][mn].log_loss,label='train',color='green')\n",
    "    plt.scatter(ll_list[1][mn].eras,ll_list[1][mn].log_loss,label='validation',color='orange')\n",
    "    plt.ylim(0.690,0.695)\n",
    "    plt.legend()\n",
    "    plt.axhline(y=-np.log(0.5), xmin=0, xmax=1,color='k',linestyle='--')\n",
    "    plt.subplot(122)\n",
    "    plt.title('{} train:{:1.5f} tour:{:1.5f} cons:{:1.3f}'.format(mn,tr_std,tor_std,tor_cons))\n",
    "    plt.scatter(ll_list[0][mn].eras,ll_list[0][mn].stds,label='train',color='green')\n",
    "    plt.scatter(ll_list[1][mn].eras,ll_list[1][mn].stds,label='validation',color='orange')\n"
   ]
  },
  {
   "cell_type": "code",
   "execution_count": null,
   "metadata": {
    "collapsed": true
   },
   "outputs": [],
   "source": []
  },
  {
   "cell_type": "code",
   "execution_count": null,
   "metadata": {
    "collapsed": true
   },
   "outputs": [],
   "source": [
    "aec=models.aec.AecModel()\n",
    "aec.load()\n",
    "adv=models.aec_gan.AecAdvModel()\n",
    "adv.load()\n",
    "adx=models.aec_gan_xg.AecGanXgModel()\n",
    "adx.load()"
   ]
  },
  {
   "cell_type": "code",
   "execution_count": null,
   "metadata": {
    "collapsed": true
   },
   "outputs": [],
   "source": [
    "for x in [X_train,X_val,X_test]:\n",
    "    aecdX = aec.decoder.predict(x)\n",
    "    advdX = adv.decoder.predict(x)\n",
    "    adxdX = adx.aa_inst.decoder.predict(x)\n",
    "    print('---------')\n",
    "    print('aec',metrics.mean_squared_error(aecdX,x))\n",
    "    print('adv',metrics.mean_squared_error(advdX,x))\n",
    "    print('adx',metrics.mean_squared_error(adxdX,x))"
   ]
  },
  {
   "cell_type": "code",
   "execution_count": null,
   "metadata": {
    "collapsed": true
   },
   "outputs": [],
   "source": [
    "mn = 'aecganxg'\n",
    "plt.figure(0)\n",
    "plt.scatter(ll_list[0][mn].eras,ll_list[0][mn].log_loss,label='train',color='green')\n",
    "plt.scatter(ll_list[1][mn].eras,ll_list[1][mn].log_loss,label='validation',color='orange')\n",
    "plt.legend()\n",
    "plt.axhline(y=-np.log(0.5), xmin=0, xmax=1,color='k',linestyle='--')\n",
    "plt.figure(1)\n",
    "plt.scatter(ll_list[1][mn].eras,ll_list[1][mn].log_loss,label='validation',color='orange')\n",
    "plt.legend()\n",
    "plt.axhline(y=-np.log(0.5), xmin=0, xmax=1,color='k',linestyle='--')"
   ]
  },
  {
   "cell_type": "code",
   "execution_count": null,
   "metadata": {
    "collapsed": true
   },
   "outputs": [],
   "source": [
    "import numpy as np\n",
    "import pandas as pd\n",
    "from sklearn.decomposition import FastICA\n",
    "from sklearn.ensemble import ExtraTreesClassifier\n",
    "from sklearn.model_selection import train_test_split\n",
    "from sklearn.pipeline import make_pipeline, make_union\n",
    "from tpot.builtins import StackingEstimator\n",
    "\n",
    "#X_test,y_test,ids,_eras,_datatypes=get_data(data_files[-1]['testpath'])\n",
    "#X_train,y_train,X_val,y_val = get_data_era_balanced(data_files[-1]['trainpath'])\n",
    "\n",
    "# Score on the training set was:0.6049871246781169\n",
    "# exported_pipeline = make_pipeline(\n",
    "#     FastICA(tol=0.35000000000000003),\n",
    "#     StackingEstimator(estimator=ExtraTreesClassifier(bootstrap=False, criterion=\"gini\", max_features=0.1, min_samples_leaf=3, min_samples_split=14, n_estimators=100)),\n",
    "#     ExtraTreesClassifier(bootstrap=False, criterion=\"entropy\", max_features=0.6500000000000001, min_samples_leaf=17, min_samples_split=13, n_estimators=100)\n",
    "# )\n",
    "args = [\n",
    "    FastICA(tol=0.35000000000000003),\n",
    "    StackingEstimator(estimator=ExtraTreesClassifier(bootstrap=False, criterion=\"gini\", max_features=0.1, min_samples_leaf=3, min_samples_split=7, n_estimators=100)),\n",
    "    ExtraTreesClassifier(bootstrap=False, criterion=\"entropy\", max_features=0.6500000000000001, min_samples_leaf=, min_samples_split=6, n_estimators=80),\n",
    "\n",
    "]\n",
    "exported_pipeline = make_pipeline(\n",
    "    *args,\n",
    "    memory=memory\n",
    ")\n",
    "\n",
    "exported_pipeline.fit(X_train, y_train)\n",
    "results = exported_pipeline.predict(X_test)\n",
    "\n",
    "\n",
    "import pickle\n",
    "with open('mymodel','wb') as f:\n",
    "    pickle.dump(model,f)"
   ]
  },
  {
   "cell_type": "code",
   "execution_count": null,
   "metadata": {
    "collapsed": true
   },
   "outputs": [],
   "source": [
    "for p in ['trainpath','testpath']:\n",
    "    X__,y__,ids__,eras__,datatypes__=get_data(data_files[-1][p])\n",
    "    results = exported_pipeline.predict_proba(X__)\n",
    "    val_eras = [x for x in np.unique(eras__) if x not in ['eraX']]\n",
    "    ll = {}\n",
    "    name = 'tpot'\n",
    "    ll[name]=[]\n",
    "    for era in val_eras:\n",
    "        inds = np.array(np.where(eras__==era)).squeeze()\n",
    "        l = opt.log_loss_func([1.],[results[inds]],y__[inds])\n",
    "        ll[name].append({'eras':to_int(era),'log_loss':l})\n",
    "    ll[name] = pd.DataFrame(ll[name])\n",
    "    ll_list.append(ll)\n",
    "    for k in sorted(ll.keys()):\n",
    "        v = ll[k].log_loss\n",
    "        consistency = np.sum(v<-np.log(0.5))/len(v)\n",
    "        mila = np.mean(v)\n",
    "        print('{} {} cons:{:1.4f} logloss:{:1.4f}'.format(p,k,consistency,mila))\n"
   ]
  },
  {
   "cell_type": "code",
   "execution_count": null,
   "metadata": {
    "collapsed": true
   },
   "outputs": [],
   "source": [
    "opt_weights = opt.opt_weights(y_pred_list,y_test[val_inds])"
   ]
  },
  {
   "cell_type": "code",
   "execution_count": null,
   "metadata": {
    "collapsed": true
   },
   "outputs": [],
   "source": [
    "opt_pred = opt.opt_pred(y_pred_list,opt_weights)\n",
    "print(len(y_pred_list),opt_weights.shape,opt_pred.shape)\n",
    "print('final logloss',name,opt.log_loss_func([1.0],[opt_pred],y_test[val_inds]))"
   ]
  },
  {
   "cell_type": "code",
   "execution_count": null,
   "metadata": {
    "collapsed": true
   },
   "outputs": [],
   "source": [
    "print(['{:.8f}'.format(x) for x in opt_weights])\n",
    "print(np.sum(opt_weights))"
   ]
  }
 ],
 "metadata": {
  "kernelspec": {
   "display_name": "Python [conda env:py35]",
   "language": "python",
   "name": "conda-env-py35-py"
  },
  "language_info": {
   "codemirror_mode": {
    "name": "ipython",
    "version": 3
   },
   "file_extension": ".py",
   "mimetype": "text/x-python",
   "name": "python",
   "nbconvert_exporter": "python",
   "pygments_lexer": "ipython3",
   "version": "3.5.4"
  }
 },
 "nbformat": 4,
 "nbformat_minor": 2
}
