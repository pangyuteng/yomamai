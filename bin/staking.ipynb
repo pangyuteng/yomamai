{
 "cells": [
  {
   "cell_type": "code",
   "execution_count": 1,
   "metadata": {
    "collapsed": true
   },
   "outputs": [],
   "source": [
    "import yaml\n",
    "import matplotlib.pyplot as plt\n",
    "%matplotlib inline\n",
    "from sklearn import metrics\n",
    "import pandas as pd\n",
    "import numpy as np"
   ]
  },
  {
   "cell_type": "code",
   "execution_count": 16,
   "metadata": {},
   "outputs": [],
   "source": [
    "import os,sys\n",
    "root_path = os.path.dirname(os.path.dirname(os.path.abspath('run.py')))\n",
    "sys.path.append(root_path)\n",
    "from cfg import cfg\n",
    "from numerapi.numerapi import NumerAPI\n",
    "import models\n",
    "from data_utils import data_files\n",
    "from data_utils import get_data_era_balanced,data_files,get_data, write_to_csv\n"
   ]
  },
  {
   "cell_type": "code",
   "execution_count": 3,
   "metadata": {
    "collapsed": true
   },
   "outputs": [],
   "source": [
    "kwargs = cfg['api']"
   ]
  },
  {
   "cell_type": "code",
   "execution_count": 13,
   "metadata": {},
   "outputs": [
    {
     "name": "stderr",
     "output_type": "stream",
     "text": [
      "2018-01-14 09:59:15,259 INFO numerapi.numerapi: getting stakes for round 0\n",
      "2018-01-14 09:59:16,257 INFO numerapi.numerapi: getting leaderboard for round 0\n"
     ]
    },
    {
     "name": "stdout",
     "output_type": "stream",
     "text": [
      "(848,) 107739.13\n"
     ]
    }
   ],
   "source": [
    "d=[]\n",
    "x=0\n",
    "api_inst=NumerAPI(**kwargs)\n",
    "slb=api_inst.get_staking_leaderboard()\n",
    "lb=api_inst.get_leaderboard(int(x))\n",
    "to_float = lambda x: float(x['totalPayments']['nmrAmount']) if x['totalPayments']['nmrAmount'] is not None else 0.0\n",
    "nmr =np.array([to_float(x) for x in lb])\n",
    "print(nmr.shape,np.sum(nmr))\n"
   ]
  },
  {
   "cell_type": "code",
   "execution_count": 22,
   "metadata": {},
   "outputs": [
    {
     "data": {
      "text/plain": [
       "[{'consistency': 100.0,\n",
       "  'liveLogloss': None,\n",
       "  'stake': {'confidence': '0.220',\n",
       "   'insertedAt': '2018-01-13T23:35:56.904747Z',\n",
       "   'soc': '18.18',\n",
       "   'txHash': '0x65e39700387561ee58024239ea3c5002456de16778b03be95ed65d97b3f7f00b',\n",
       "   'value': '4.00'},\n",
       "  'username': 'cygnus',\n",
       "  'validationLogloss': 0.6920660647325698},\n",
       " {'consistency': 100.0,\n",
       "  'liveLogloss': None,\n",
       "  'stake': {'confidence': '0.200',\n",
       "   'insertedAt': '2018-01-14T01:59:29.343173Z',\n",
       "   'soc': '50.00',\n",
       "   'txHash': '0xbc11805a0dc61249b746edab6f63a2042355f57828e0d111eb4e00a0b8487cd2',\n",
       "   'value': '10.00'},\n",
       "  'username': 'fornax',\n",
       "  'validationLogloss': 0.6886627042022047},\n",
       " {'consistency': 91.66666666666666,\n",
       "  'liveLogloss': None,\n",
       "  'stake': {'confidence': '0.170',\n",
       "   'insertedAt': '2018-01-14T12:06:16.3076Z',\n",
       "   'soc': '294.12',\n",
       "   'txHash': '0xe743f7672f85ebaaddca2b219b23b89a786ac726d59aa0461f64478a3e4e977b',\n",
       "   'value': '50.00'},\n",
       "  'username': 'kreator',\n",
       "  'validationLogloss': 0.6921455756182459}]"
      ]
     },
     "execution_count": 22,
     "metadata": {},
     "output_type": "execute_result"
    }
   ],
   "source": [
    "slb[0:3]"
   ]
  },
  {
   "cell_type": "code",
   "execution_count": 27,
   "metadata": {
    "scrolled": false
   },
   "outputs": [
    {
     "name": "stdout",
     "output_type": "stream",
     "text": [
      "0.220*4.00=18.18\n",
      "---- 18.18\n",
      "0.200*10.00=50.00\n",
      "---- 68.18\n",
      "0.170*50.00=294.12\n",
      "---- 362.3\n",
      "0.160*40.00=250.00\n",
      "---- 612.3\n",
      "0.071*18.00=253.52\n",
      "---- 865.8199999999999\n",
      "0.071*18.00=253.52\n",
      "---- 1119.34\n",
      "0.071*18.00=253.52\n",
      "---- 1372.86\n",
      "0.071*17.00=239.44\n",
      "---- 1612.3\n",
      "0.070*35.00=500.00\n",
      "---- 2112.3\n",
      "0.045*10.00=222.22\n",
      "---- 2334.52\n",
      "0.045*5.00=111.11\n",
      "---- 2445.63\n",
      "0.045*5.00=111.11\n",
      "---- 2556.7400000000002\n",
      "0.040*1.00=25.00\n",
      "---- 2581.7400000000002\n",
      "0.035*1.00=28.57\n",
      "---- 2610.3100000000004\n",
      "0.010*10.00=1000.00\n",
      "---- 3610.3100000000004\n"
     ]
    }
   ],
   "source": [
    "slb=sorted(slb,key=lambda x: x['stake']['confidence'], reverse=True)\n",
    "total=0\n",
    "for r in slb:\n",
    "    print('{}*{}={}'.format(r['stake']['confidence'],r['stake']['value'],r['stake']['soc']))\n",
    "    total+=float(r['stake']['soc'])\n",
    "    print('----',total)"
   ]
  }
 ],
 "metadata": {
  "kernelspec": {
   "display_name": "Python [conda env:py35]",
   "language": "python",
   "name": "conda-env-py35-py"
  },
  "language_info": {
   "codemirror_mode": {
    "name": "ipython",
    "version": 3
   },
   "file_extension": ".py",
   "mimetype": "text/x-python",
   "name": "python",
   "nbconvert_exporter": "python",
   "pygments_lexer": "ipython3",
   "version": "3.5.4"
  }
 },
 "nbformat": 4,
 "nbformat_minor": 2
}
