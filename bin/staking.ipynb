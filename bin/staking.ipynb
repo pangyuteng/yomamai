{
 "cells": [
  {
   "cell_type": "code",
   "execution_count": 1,
   "metadata": {
    "collapsed": true
   },
   "outputs": [],
   "source": [
    "import yaml\n",
    "import matplotlib.pyplot as plt\n",
    "%matplotlib inline\n",
    "from sklearn import metrics\n",
    "import pandas as pd\n",
    "import numpy as np"
   ]
  },
  {
   "cell_type": "code",
   "execution_count": 16,
   "metadata": {},
   "outputs": [],
   "source": [
    "import os,sys\n",
    "root_path = os.path.dirname(os.path.dirname(os.path.abspath('run.py')))\n",
    "sys.path.append(root_path)\n",
    "from cfg import cfg\n",
    "from numerapi.numerapi import NumerAPI\n",
    "import models\n",
    "from data_utils import data_files\n",
    "from data_utils import get_data_era_balanced,data_files,get_data, write_to_csv\n"
   ]
  },
  {
   "cell_type": "code",
   "execution_count": 3,
   "metadata": {
    "collapsed": true
   },
   "outputs": [],
   "source": [
    "kwargs = cfg['api']"
   ]
  },
  {
   "cell_type": "code",
   "execution_count": 34,
   "metadata": {},
   "outputs": [
    {
     "name": "stderr",
     "output_type": "stream",
     "text": [
      "2018-01-14 11:34:19,386 INFO numerapi.numerapi: getting stakes for round 0\n",
      "2018-01-14 11:34:21,295 INFO numerapi.numerapi: getting leaderboard for round 0\n"
     ]
    },
    {
     "name": "stdout",
     "output_type": "stream",
     "text": [
      "(882,) 117277.7\n"
     ]
    }
   ],
   "source": [
    "d=[]\n",
    "x=0\n",
    "api_inst=NumerAPI(**kwargs)\n",
    "slb=api_inst.get_staking_leaderboard()\n",
    "lb=api_inst.get_leaderboard(int(x))\n",
    "to_float = lambda x: float(x['totalPayments']['nmrAmount']) if x['totalPayments']['nmrAmount'] is not None else 0.0\n",
    "nmr =np.array([to_float(x) for x in lb])\n",
    "print(nmr.shape,np.sum(nmr))\n"
   ]
  },
  {
   "cell_type": "code",
   "execution_count": 35,
   "metadata": {},
   "outputs": [
    {
     "data": {
      "text/plain": [
       "[{'consistency': 100.0,\n",
       "  'liveLogloss': None,\n",
       "  'stake': {'confidence': '0.071',\n",
       "   'insertedAt': '2018-01-14T09:34:58.356152Z',\n",
       "   'soc': '253.52',\n",
       "   'txHash': '0x5d06f018267f82c0837abf7ce60463827c05006ba3a0abc54972690cc08674da',\n",
       "   'value': '18.00'},\n",
       "  'username': 'mel',\n",
       "  'validationLogloss': 0.6920526278100417},\n",
       " {'consistency': 83.33333333333334,\n",
       "  'liveLogloss': None,\n",
       "  'stake': {'confidence': '0.035',\n",
       "   'insertedAt': '2018-01-13T20:10:12.691064Z',\n",
       "   'soc': '28.57',\n",
       "   'txHash': '0x42345ae96496222ae73d0938e2b7e8ebd12a5c82cd54b2659178b8869c9f6686',\n",
       "   'value': '1.00'},\n",
       "  'username': 'objectscience',\n",
       "  'validationLogloss': 0.6924736177369512},\n",
       " {'consistency': 100.0,\n",
       "  'liveLogloss': None,\n",
       "  'stake': {'confidence': '0.220',\n",
       "   'insertedAt': '2018-01-13T23:35:56.904747Z',\n",
       "   'soc': '18.18',\n",
       "   'txHash': '0x65e39700387561ee58024239ea3c5002456de16778b03be95ed65d97b3f7f00b',\n",
       "   'value': '4.00'},\n",
       "  'username': 'cygnus',\n",
       "  'validationLogloss': 0.6920660647325698}]"
      ]
     },
     "execution_count": 35,
     "metadata": {},
     "output_type": "execute_result"
    }
   ],
   "source": [
    "slb[0:3]"
   ]
  },
  {
   "cell_type": "code",
   "execution_count": 36,
   "metadata": {
    "scrolled": false
   },
   "outputs": [
    {
     "name": "stdout",
     "output_type": "stream",
     "text": [
      "0.220*4.00=18.18\n",
      "---- 18.18\n",
      "0.200*10.00=50.00\n",
      "---- 68.18\n",
      "0.190*20.00=105.26\n",
      "---- 173.44\n",
      "0.170*50.00=294.12\n",
      "---- 467.56\n",
      "0.160*40.00=250.00\n",
      "---- 717.56\n",
      "0.150*40.00=266.67\n",
      "---- 984.23\n",
      "0.113*1.00=8.85\n",
      "---- 993.08\n",
      "0.112*1.00=8.93\n",
      "---- 1002.01\n",
      "0.111*1.00=9.01\n",
      "---- 1011.02\n",
      "0.087*5.00=57.47\n",
      "---- 1068.49\n",
      "0.087*1.00=11.49\n",
      "---- 1079.98\n",
      "0.087*5.00=57.47\n",
      "---- 1137.45\n",
      "0.071*18.00=253.52\n",
      "---- 1390.97\n",
      "0.071*18.00=253.52\n",
      "---- 1644.49\n",
      "0.071*18.00=253.52\n",
      "---- 1898.01\n",
      "0.071*17.00=239.44\n",
      "---- 2137.45\n",
      "0.070*35.00=500.00\n",
      "---- 2637.45\n",
      "0.050*1.00=20.00\n",
      "---- 2657.45\n",
      "0.050*80.00=1600.00\n",
      "---- 4257.45\n",
      "0.046*5.00=108.70\n",
      "---- 4366.15\n",
      "0.045*10.00=222.22\n",
      "---- 4588.37\n",
      "0.045*5.00=111.11\n",
      "---- 4699.48\n",
      "0.045*5.00=111.11\n",
      "---- 4810.589999999999\n",
      "0.040*1.00=25.00\n",
      "---- 4835.589999999999\n",
      "0.035*1.00=28.57\n",
      "---- 4864.159999999999\n",
      "0.010*10.00=1000.00\n",
      "---- 5864.159999999999\n"
     ]
    }
   ],
   "source": [
    "slb=sorted(slb,key=lambda x: x['stake']['confidence'], reverse=True)\n",
    "total=0\n",
    "for r in slb:\n",
    "    print('{}*{}={}'.format(r['stake']['confidence'],r['stake']['value'],r['stake']['soc']))\n",
    "    total+=float(r['stake']['soc'])\n",
    "    print('----',total)"
   ]
  },
  {
   "cell_type": "code",
   "execution_count": null,
   "metadata": {
    "collapsed": true
   },
   "outputs": [],
   "source": []
  }
 ],
 "metadata": {
  "kernelspec": {
   "display_name": "Python [conda env:py35]",
   "language": "python",
   "name": "conda-env-py35-py"
  },
  "language_info": {
   "codemirror_mode": {
    "name": "ipython",
    "version": 3
   },
   "file_extension": ".py",
   "mimetype": "text/x-python",
   "name": "python",
   "nbconvert_exporter": "python",
   "pygments_lexer": "ipython3",
   "version": "3.5.4"
  }
 },
 "nbformat": 4,
 "nbformat_minor": 2
}
