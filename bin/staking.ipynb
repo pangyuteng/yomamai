{
 "cells": [
  {
   "cell_type": "code",
   "execution_count": 64,
   "metadata": {
    "collapsed": true
   },
   "outputs": [],
   "source": [
    "import yaml\n",
    "import matplotlib.pyplot as plt\n",
    "%matplotlib inline\n",
    "from sklearn import metrics\n",
    "import pandas as pd\n",
    "import numpy as np"
   ]
  },
  {
   "cell_type": "code",
   "execution_count": 76,
   "metadata": {
    "collapsed": true
   },
   "outputs": [],
   "source": [
    "import os,sys\n",
    "root_path = os.path.dirname(os.path.dirname(os.path.abspath('run.py')))\n",
    "sys.path.append(root_path)\n",
    "from cfg import cfg\n",
    "from numerapi.numerapi import NumerAPI\n",
    "import models\n",
    "from data_utils import data_files\n",
    "from data_utils import get_data_era_balanced,data_files,get_data, write_to_csv\n"
   ]
  },
  {
   "cell_type": "code",
   "execution_count": 77,
   "metadata": {
    "collapsed": true
   },
   "outputs": [],
   "source": [
    "kwargs = cfg['api']"
   ]
  },
  {
   "cell_type": "code",
   "execution_count": 78,
   "metadata": {},
   "outputs": [
    {
     "name": "stderr",
     "output_type": "stream",
     "text": [
      "2018-01-15 07:13:36,263 INFO numerapi.numerapi: getting stakes for round 90\n",
      "2018-01-15 07:13:37,339 INFO numerapi.numerapi: getting leaderboard for round 90\n"
     ]
    },
    {
     "name": "stdout",
     "output_type": "stream",
     "text": [
      "(1128,) 147036.92\n"
     ]
    }
   ],
   "source": [
    "d=[]\n",
    "x=90\n",
    "api_inst=NumerAPI(**kwargs)\n",
    "slb=api_inst.get_staking_leaderboard(int(x))\n",
    "lb=api_inst.get_leaderboard(int(x))\n",
    "to_float = lambda x: float(x['totalPayments']['nmrAmount']) if x['totalPayments']['nmrAmount'] is not None else 0.0\n",
    "nmr =np.array([to_float(x) for x in lb])\n",
    "print(nmr.shape,np.sum(nmr))\n"
   ]
  },
  {
   "cell_type": "code",
   "execution_count": 79,
   "metadata": {
    "scrolled": false
   },
   "outputs": [
    {
     "name": "stdout",
     "output_type": "stream",
     "text": [
      "0.660*4.00=6.06\n",
      "---- 6.06\n",
      "0.220*4.00=18.18\n",
      "---- 24.24\n",
      "0.200*1.00=5.00\n",
      "---- 29.24\n",
      "0.200*10.00=50.00\n",
      "---- 79.24\n",
      "0.191*4.00=20.94\n",
      "---- 100.17999999999999\n",
      "0.190*20.00=105.26\n",
      "---- 205.44\n",
      "0.171*1.60=9.36\n",
      "---- 214.8\n",
      "0.170*50.00=294.12\n",
      "---- 508.92\n",
      "0.160*40.00=250.00\n",
      "---- 758.9200000000001\n",
      "0.150*40.00=266.67\n",
      "---- 1025.5900000000001\n",
      "0.150*1.00=6.67\n",
      "---- 1032.2600000000002\n",
      "0.140*39.00=278.57\n",
      "---- 1310.8300000000002\n",
      "0.130*27.00=207.69\n",
      "---- 1518.5200000000002\n",
      "0.120*200.00=1666.67\n",
      "---- 3185.1900000000005\n",
      "0.119*100.00=840.34\n",
      "---- 4025.5300000000007\n",
      "====================\n",
      "0.118*154.00=1305.08\n",
      "---- 5330.610000000001\n",
      "0.117*100.00=854.73\n",
      "---- 6185.34\n",
      "0.115*50.00=434.78\n",
      "---- 6620.12\n",
      "0.115*57.50=500.00\n",
      "---- 7120.12\n",
      "0.113*10.00=88.50\n",
      "---- 7208.62\n",
      "0.113*1.00=8.85\n",
      "---- 7217.47\n",
      "0.113*1.00=8.85\n",
      "---- 7226.320000000001\n",
      "0.113*15.00=132.74\n",
      "---- 7359.06\n",
      "0.113*98.00=867.26\n",
      "---- 8226.32\n",
      "0.112*6.00=53.57\n",
      "---- 8279.89\n",
      "0.112*1.00=8.93\n",
      "---- 8288.82\n",
      "0.112*80.00=714.30\n",
      "---- 9003.119999999999\n",
      "^^^^^^^^^^^\n",
      "0.111*1.00=9.01\n",
      "---- 9012.13\n",
      "0.111*100.00=900.90\n",
      "---- 9913.029999999999\n",
      "0.110*60.00=545.45\n",
      "---- 10458.48\n",
      "0.103*103.00=1000.00\n",
      "---- 11458.48\n",
      "0.102*100.00=980.39\n",
      "---- 12438.869999999999\n",
      "0.100*30.00=300.00\n",
      "---- 12738.869999999999\n",
      "0.099*30.00=303.03\n",
      "---- 13041.9\n",
      "0.095*20.00=210.53\n",
      "---- 13252.43\n",
      "0.093*40.00=430.11\n",
      "---- 13682.54\n",
      "0.092*3.00=32.61\n",
      "---- 13715.150000000001\n",
      "0.091*75.00=824.18\n",
      "---- 14539.330000000002\n",
      "0.090*36.00=400.00\n",
      "---- 14939.330000000002\n",
      "0.090*33.00=366.67\n",
      "---- 15306.000000000002\n",
      "0.089*4.01=45.06\n",
      "---- 15351.060000000001\n",
      "0.088*5.00=56.82\n",
      "---- 15407.880000000001\n",
      "0.087*1.00=11.49\n",
      "---- 15419.37\n",
      "0.087*5.00=57.47\n",
      "---- 15476.84\n",
      "0.087*20.00=229.89\n",
      "---- 15706.73\n",
      "0.087*5.00=57.47\n",
      "---- 15764.199999999999\n",
      "0.080*1.00=12.50\n",
      "---- 15776.699999999999\n",
      "0.078*7.00=89.74\n",
      "---- 15866.439999999999\n",
      "0.077*5.00=64.94\n",
      "---- 15931.38\n",
      "0.076*10.00=131.58\n",
      "---- 16062.96\n",
      "0.075*5.00=66.67\n",
      "---- 16129.63\n",
      "0.072*40.00=555.56\n",
      "---- 16685.19\n",
      "0.071*18.00=253.52\n",
      "---- 16938.71\n",
      "0.071*18.00=253.52\n",
      "---- 17192.23\n",
      "0.071*10.00=140.85\n",
      "---- 17333.079999999998\n",
      "0.071*18.00=253.52\n",
      "---- 17586.6\n",
      "0.071*17.00=239.44\n",
      "---- 17826.039999999997\n",
      "0.070*1.00=14.29\n",
      "---- 17840.329999999998\n",
      "0.070*1.00=14.29\n",
      "---- 17854.62\n",
      "0.070*119.00=1700.00\n",
      "---- 19554.62\n",
      "0.065*10.00=153.85\n",
      "---- 19708.469999999998\n",
      "0.055*10.00=181.82\n",
      "---- 19890.289999999997\n",
      "0.051*1.00=19.61\n",
      "---- 19909.899999999998\n",
      "0.050*1.00=20.00\n",
      "---- 19929.899999999998\n",
      "0.050*5.00=100.00\n",
      "---- 20029.899999999998\n",
      "0.046*5.00=108.70\n",
      "---- 20138.6\n",
      "0.045*5.00=111.11\n",
      "---- 20249.71\n",
      "0.045*10.00=222.22\n",
      "---- 20471.93\n",
      "0.045*5.00=111.11\n",
      "---- 20583.04\n",
      "0.035*1.00=28.57\n",
      "---- 20611.61\n",
      "0.029*29.00=1000.00\n",
      "---- 21611.61\n",
      "0.025*25.00=1000.00\n",
      "---- 22611.61\n",
      "0.010*10.00=1000.00\n",
      "---- 23611.61\n"
     ]
    }
   ],
   "source": [
    "slb=sorted(slb,key=lambda x: x['stake']['confidence'], reverse=True)\n",
    "total=0\n",
    "p=True\n",
    "for r in slb:\n",
    "    print('{}*{}={}'.format(r['stake']['confidence'],r['stake']['value'],r['stake']['soc']))\n",
    "    total+=float(r['stake']['soc'])\n",
    "    \n",
    "    print('----',total)\n",
    "    if total > 4000 and p:\n",
    "        p=False\n",
    "        print('====================')\n",
    "    if r['username'] == 'ted':\n",
    "        print('^^^^^^^^^^^')"
   ]
  },
  {
   "cell_type": "code",
   "execution_count": 74,
   "metadata": {},
   "outputs": [
    {
     "data": {
      "text/plain": [
       "[{'consistency': 83.33333333333334,\n",
       "  'liveLogloss': None,\n",
       "  'stake': {'confidence': '0.660',\n",
       "   'insertedAt': '2018-01-14T22:43:43.363155Z',\n",
       "   'soc': '6.06',\n",
       "   'txHash': '0x9d1126b2280103f10fe9c4526212b574e8b7c118762fe5b3b32e884f2876691e',\n",
       "   'value': '4.00'},\n",
       "  'username': 'acai_smoothie',\n",
       "  'validationLogloss': 0.6927490635215646},\n",
       " {'consistency': 100.0,\n",
       "  'liveLogloss': None,\n",
       "  'stake': {'confidence': '0.220',\n",
       "   'insertedAt': '2018-01-13T23:35:56.904747Z',\n",
       "   'soc': '18.18',\n",
       "   'txHash': '0x65e39700387561ee58024239ea3c5002456de16778b03be95ed65d97b3f7f00b',\n",
       "   'value': '4.00'},\n",
       "  'username': 'cygnus',\n",
       "  'validationLogloss': 0.6920660647325698},\n",
       " {'consistency': 91.66666666666666,\n",
       "  'liveLogloss': None,\n",
       "  'stake': {'confidence': '0.200',\n",
       "   'insertedAt': '2018-01-14T23:03:29.544477Z',\n",
       "   'soc': '5.00',\n",
       "   'txHash': '0x8b1f79a7e8d7e746ae50e0dd52948c41546451d5916cf7d54a2b21325a6a4218',\n",
       "   'value': '1.00'},\n",
       "  'username': 'quanttrader',\n",
       "  'validationLogloss': 0.6922042671202854}]"
      ]
     },
     "execution_count": 74,
     "metadata": {},
     "output_type": "execute_result"
    }
   ],
   "source": [
    "slb[0:3]"
   ]
  },
  {
   "cell_type": "code",
   "execution_count": null,
   "metadata": {
    "collapsed": true
   },
   "outputs": [],
   "source": []
  },
  {
   "cell_type": "code",
   "execution_count": null,
   "metadata": {
    "collapsed": true
   },
   "outputs": [],
   "source": []
  }
 ],
 "metadata": {
  "kernelspec": {
   "display_name": "Python [conda env:py35]",
   "language": "python",
   "name": "conda-env-py35-py"
  },
  "language_info": {
   "codemirror_mode": {
    "name": "ipython",
    "version": 3
   },
   "file_extension": ".py",
   "mimetype": "text/x-python",
   "name": "python",
   "nbconvert_exporter": "python",
   "pygments_lexer": "ipython3",
   "version": "3.5.4"
  }
 },
 "nbformat": 4,
 "nbformat_minor": 2
}
